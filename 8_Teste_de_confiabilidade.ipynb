{
  "cells": [
    {
      "cell_type": "markdown",
      "metadata": {
        "id": "view-in-github",
        "colab_type": "text"
      },
      "source": [
        "<a href=\"https://colab.research.google.com/github/Leandro-Bernardo/Neural-Network-for-fire-detection/blob/main/8_Teste_de_confiabilidade.ipynb\" target=\"_parent\"><img src=\"https://colab.research.google.com/assets/colab-badge.svg\" alt=\"Open In Colab\"/></a>"
      ]
    },
    {
      "cell_type": "markdown",
      "metadata": {
        "id": "2tCaEW5Mj8tE"
      },
      "source": [
        "#### Drive"
      ]
    },
    {
      "cell_type": "code",
      "execution_count": null,
      "metadata": {
        "colab": {
          "base_uri": "https://localhost:8080/"
        },
        "id": "gEhk2RXOEZE7",
        "outputId": "ab0f434e-6341-4c58-8995-c7f718fc7495"
      },
      "outputs": [
        {
          "output_type": "stream",
          "name": "stdout",
          "text": [
            "Mounted at /content/drive\n"
          ]
        }
      ],
      "source": [
        "from google.colab import drive\n",
        "drive.mount('/content/drive')"
      ]
    },
    {
      "cell_type": "code",
      "execution_count": null,
      "metadata": {
        "id": "W6_4tONyUM-R"
      },
      "outputs": [],
      "source": []
    },
    {
      "cell_type": "markdown",
      "metadata": {
        "id": "JWBR9U1XLUdM"
      },
      "source": [
        "#### Pré processamento das Imagens"
      ]
    },
    {
      "cell_type": "code",
      "execution_count": null,
      "metadata": {
        "id": "PjcvW2pE_DYj"
      },
      "outputs": [],
      "source": [
        "import os"
      ]
    },
    {
      "cell_type": "code",
      "execution_count": null,
      "metadata": {
        "id": "bMvbhxEdrDfk",
        "colab": {
          "base_uri": "https://localhost:8080/"
        },
        "outputId": "c9451bce-4007-46d1-d6d0-953179fe2b7f"
      },
      "outputs": [
        {
          "name": "stdout",
          "output_type": "stream",
          "text": [
            "Qual Treinamento?  /content/drive/MyDrive/TCC/Videos/Treinamento\n"
          ]
        }
      ],
      "source": [
        "local = input('Qual Treinamento?  ')"
      ]
    },
    {
      "cell_type": "code",
      "execution_count": null,
      "metadata": {
        "id": "yqk5rjhT_DYj",
        "colab": {
          "base_uri": "https://localhost:8080/"
        },
        "outputId": "ae0cd986-fdfe-4274-ee5b-ad7bebc0e03f"
      },
      "outputs": [
        {
          "output_type": "execute_result",
          "data": {
            "text/plain": [
              "['Fumaca', 'Nao_Fumaca']"
            ]
          },
          "metadata": {},
          "execution_count": 4
        }
      ],
      "source": [
        "dir = list(os.listdir(local))\n",
        "dir"
      ]
    },
    {
      "cell_type": "code",
      "execution_count": null,
      "metadata": {
        "id": "GxFu6pdE_DYj",
        "colab": {
          "base_uri": "https://localhost:8080/"
        },
        "outputId": "cd5ee068-428f-4210-95b3-f00fc971a2d4"
      },
      "outputs": [
        {
          "output_type": "stream",
          "name": "stdout",
          "text": [
            "Fumaca contem : 269 fotos\n",
            "Nao_Fumaca contem : 275 fotos\n",
            "Total: 544\n"
          ]
        }
      ],
      "source": [
        "print(f'{dir[0]} contem :', len(os.listdir(f'{local}/{dir[0]}')),'fotos')\n",
        "print(f'{dir[1]} contem :', len(os.listdir(f'{local}/{dir[1]}')),'fotos')\n",
        "\n",
        "size = sum([len(os.listdir(f'{local}/{dir[0]}')) ,len(os.listdir(f'{local}/{dir[1]}'))])\n",
        "print('Total:', size)"
      ]
    },
    {
      "cell_type": "code",
      "execution_count": null,
      "metadata": {
        "id": "-AB3h8eM_DYk",
        "colab": {
          "base_uri": "https://localhost:8080/"
        },
        "outputId": "2d830a5c-ffee-4b82-dd44-377b6907f5a6"
      },
      "outputs": [
        {
          "output_type": "execute_result",
          "data": {
            "text/plain": [
              "68"
            ]
          },
          "metadata": {},
          "execution_count": 6
        }
      ],
      "source": [
        "amostras = int(size/8)\n",
        "amostras\n"
      ]
    },
    {
      "cell_type": "code",
      "execution_count": null,
      "metadata": {
        "id": "80iP-UCV_DYk",
        "colab": {
          "base_uri": "https://localhost:8080/"
        },
        "outputId": "d7ac6888-36ec-491c-a4eb-e1bfd95f168a"
      },
      "outputs": [
        {
          "output_type": "stream",
          "name": "stdout",
          "text": [
            "Found 544 images belonging to 2 classes.\n"
          ]
        }
      ],
      "source": [
        "from tensorflow.keras.preprocessing.image import ImageDataGenerator\n",
        "\n",
        "# Para reescalar as imagens em 1./255  (normalizar)\n",
        "reescala = ImageDataGenerator(rescale=1/255)\n",
        "\n",
        "# Flow training images in batches using train_datagen generator\n",
        "imagens_treinamento = reescala.flow_from_directory(\n",
        "        local,  # This is the source directory for training images\n",
        "        target_size=(300, 300),  # All images will be resized to 300x300\n",
        "        batch_size= amostras,\n",
        "        # Since we use binary_crossentropy loss, we need binary labels\n",
        "        class_mode='binary')"
      ]
    },
    {
      "cell_type": "code",
      "execution_count": null,
      "metadata": {
        "id": "6mFtRruf_DYk"
      },
      "outputs": [],
      "source": []
    },
    {
      "cell_type": "markdown",
      "metadata": {
        "id": "KnwP9-ROHzfO"
      },
      "source": [
        "#### Rede Neural"
      ]
    },
    {
      "cell_type": "code",
      "execution_count": null,
      "metadata": {
        "id": "HlTgXdcUDsD5"
      },
      "outputs": [],
      "source": [
        "import tensorflow as tf\n",
        "from tensorflow import keras\n",
        "from tensorflow.keras.optimizers import RMSprop"
      ]
    },
    {
      "cell_type": "code",
      "execution_count": null,
      "metadata": {
        "id": "i0PWOLAdKazY"
      },
      "outputs": [],
      "source": []
    },
    {
      "cell_type": "markdown",
      "metadata": {
        "id": "W5O-Rsc1VOUc"
      },
      "source": [
        "##### Modelo 9 (27 epoch)"
      ]
    },
    {
      "cell_type": "code",
      "execution_count": null,
      "metadata": {
        "id": "E9bYSPApmLN_"
      },
      "outputs": [],
      "source": [
        "def modelo_9():  # 27 epochs, learning rate 0.001 ,  4 layers de convolução  (atual)\n",
        "  rede = tf.keras.models.Sequential([\n",
        "    \n",
        "    # Primeira Convolução  (nos dados iniciais) \n",
        "    # tf.keras.layers.Conv2D ( numero de filtros , matriz n x n, função de ativação, dados de entrada)\n",
        "    tf.keras.layers.Conv2D(16, (3,3), activation='relu', input_shape=(300, 300, 3)), # input_shape(linhas, colunas, camadas (de cor))\n",
        "    tf.keras.layers.MaxPooling2D(2, 2),  # max pool usando uma matriz n x n\n",
        "    \n",
        "    tf.keras.layers.Conv2D(32, (3,3), activation='relu'),\n",
        "    tf.keras.layers.MaxPooling2D(2,2),\n",
        "\n",
        "    tf.keras.layers.Conv2D(32, (3,3), activation='relu'),\n",
        "    tf.keras.layers.MaxPooling2D(2,2),\n",
        "\n",
        "    tf.keras.layers.Conv2D(32, (3,3), activation='relu'),\n",
        "    tf.keras.layers.MaxPooling2D(2,2),\n",
        "\n",
        "    # Flatten os resultados para usar na Rede Neural Densa\n",
        "    tf.keras.layers.Flatten(),\n",
        "\n",
        "    # tf.keras.layers.Dense( N, função) cria uma Hidden Layer com N neuronios\n",
        "    tf.keras.layers.Dense(256, activation='relu'),\n",
        "\n",
        "    # Só um neurônio de saída por causa da função de ativação (Sigmoid).   \n",
        "    tf.keras.layers.Dense(1, activation='sigmoid')])    #Esse neurônio recebe valor 0 ou 1 (0 para classe 1 e 1 para a outra classe)\n",
        "  \n",
        "  rede.compile(loss='binary_crossentropy', \n",
        "               optimizer=RMSprop(learning_rate=0.001), \n",
        "               metrics=['accuracy'])\n",
        "  \n",
        "  return rede"
      ]
    },
    {
      "cell_type": "code",
      "execution_count": null,
      "metadata": {
        "id": "T5mcyMulmLZf"
      },
      "outputs": [],
      "source": []
    },
    {
      "cell_type": "markdown",
      "metadata": {
        "id": "dybGBDy6hfJN"
      },
      "source": [
        "##### Modelo 10 "
      ]
    },
    {
      "cell_type": "code",
      "execution_count": null,
      "metadata": {
        "id": "vI3BGp0vhfJO"
      },
      "outputs": [],
      "source": [
        "def modelo_10(): # modelo 8 com 15 epochs, learning rate 0.001 ,  5 layers de convolução  \n",
        "  rede = tf.keras.models.Sequential([\n",
        "    \n",
        "    # tf.keras.layers.Conv2D ( numero de filtros , matriz n x n, função de ativação, dados de entrada)\n",
        "    tf.keras.layers.Conv2D(16, (3,3), activation='relu', input_shape=(300, 300, 3)), # input_shape(linhas, colunas, camadas (de cor))\n",
        "    tf.keras.layers.MaxPooling2D(2, 2),  # max pool usando uma matriz n x n\n",
        "\n",
        "    tf.keras.layers.Conv2D(32, (3,3), activation='relu'),\n",
        "    tf.keras.layers.MaxPooling2D(2,2),\n",
        "\n",
        "     tf.keras.layers.Conv2D(64, (3,3), activation='relu'),\n",
        "     tf.keras.layers.MaxPooling2D(2,2),\n",
        "\n",
        "    tf.keras.layers.Conv2D(32, (3,3), activation='relu'),\n",
        "    tf.keras.layers.MaxPooling2D(2,2),\n",
        "\n",
        "    tf.keras.layers.Conv2D(32, (3,3), activation='relu'),\n",
        "    tf.keras.layers.MaxPooling2D(2,2),\n",
        "\n",
        "    # Flatten os resultados para usar na Rede Neural Densa\n",
        "    tf.keras.layers.Flatten(),\n",
        "\n",
        "    # tf.keras.layers.Dense( N, função) cria uma Hidden Layer com N neuronios\n",
        "    tf.keras.layers.Dense(512, activation='relu'),\n",
        "\n",
        "    # Só um neurônio de saída por causa da função de ativação (Sigmoid). Esse neurônio recebe valor 0 ou 1 (0 para classe 1 e 1 para a outra classe)  \n",
        "    tf.keras.layers.Dense(1, activation='sigmoid')])\n",
        "  \n",
        "  rede.compile(loss='binary_crossentropy',\n",
        "              optimizer=RMSprop(learning_rate=0.001),\n",
        "              metrics=['accuracy'])\n",
        "  \n",
        "  return rede"
      ]
    },
    {
      "cell_type": "code",
      "execution_count": null,
      "metadata": {
        "id": "j6cCchrphfJO"
      },
      "outputs": [],
      "source": []
    },
    {
      "cell_type": "code",
      "execution_count": null,
      "metadata": {
        "id": "mtsyQJgVS43S"
      },
      "outputs": [],
      "source": []
    },
    {
      "cell_type": "code",
      "execution_count": null,
      "metadata": {
        "id": "RNNSZLsySvmD"
      },
      "outputs": [],
      "source": []
    },
    {
      "cell_type": "markdown",
      "metadata": {
        "id": "eAPGiE708i1U"
      },
      "source": [
        "#### Treinamento"
      ]
    },
    {
      "cell_type": "code",
      "execution_count": null,
      "metadata": {
        "colab": {
          "base_uri": "https://localhost:8080/"
        },
        "id": "DlnNYbMdHy3i",
        "outputId": "5a7d6799-e985-49cd-89b0-434c88e3d5e4"
      },
      "outputs": [
        {
          "output_type": "stream",
          "name": "stdout",
          "text": [
            "/content/drive/MyDrive/TCC/Videos\n"
          ]
        }
      ],
      "source": [
        "#para trocar o diretorio \n",
        "%cd '/content/drive/MyDrive/TCC/Videos/' "
      ]
    },
    {
      "cell_type": "code",
      "execution_count": null,
      "metadata": {
        "id": "6eq7fYgS8k_P",
        "colab": {
          "base_uri": "https://localhost:8080/"
        },
        "outputId": "b52a8da5-1063-4520-9a3d-ba22420fe960"
      },
      "outputs": [
        {
          "output_type": "stream",
          "name": "stdout",
          "text": [
            "Epoch 1/27\n",
            "8/8 [==============================] - 192s 22s/step - loss: 1.0862 - accuracy: 0.4982\n",
            "Epoch 2/27\n",
            "8/8 [==============================] - 2s 259ms/step - loss: 0.6746 - accuracy: 0.5699\n",
            "Epoch 3/27\n",
            "8/8 [==============================] - 2s 262ms/step - loss: 0.6840 - accuracy: 0.6213\n",
            "Epoch 4/27\n",
            "8/8 [==============================] - 2s 259ms/step - loss: 0.6719 - accuracy: 0.6489\n",
            "Epoch 5/27\n",
            "8/8 [==============================] - 2s 262ms/step - loss: 0.6779 - accuracy: 0.6838\n",
            "Epoch 6/27\n",
            "8/8 [==============================] - 2s 258ms/step - loss: 0.5547 - accuracy: 0.7335\n",
            "Epoch 7/27\n",
            "8/8 [==============================] - 2s 252ms/step - loss: 0.6391 - accuracy: 0.6893\n",
            "Epoch 8/27\n",
            "8/8 [==============================] - 2s 260ms/step - loss: 0.6864 - accuracy: 0.6838\n",
            "Epoch 9/27\n",
            "8/8 [==============================] - 2s 253ms/step - loss: 0.5214 - accuracy: 0.6949\n",
            "Epoch 10/27\n",
            "8/8 [==============================] - 2s 253ms/step - loss: 0.4321 - accuracy: 0.8658\n",
            "Epoch 11/27\n",
            "8/8 [==============================] - 2s 250ms/step - loss: 0.3880 - accuracy: 0.8456\n",
            "Epoch 12/27\n",
            "8/8 [==============================] - 2s 253ms/step - loss: 0.4850 - accuracy: 0.8382\n",
            "Epoch 13/27\n",
            "8/8 [==============================] - 2s 255ms/step - loss: 0.3448 - accuracy: 0.8860\n",
            "Epoch 14/27\n",
            "8/8 [==============================] - 2s 257ms/step - loss: 0.2943 - accuracy: 0.8842\n",
            "Epoch 15/27\n",
            "8/8 [==============================] - 2s 253ms/step - loss: 0.2759 - accuracy: 0.8732\n",
            "Epoch 16/27\n",
            "8/8 [==============================] - 2s 259ms/step - loss: 0.3688 - accuracy: 0.8474\n",
            "Epoch 17/27\n",
            "8/8 [==============================] - 2s 246ms/step - loss: 0.2910 - accuracy: 0.8897\n",
            "Epoch 18/27\n",
            "8/8 [==============================] - 2s 258ms/step - loss: 0.3685 - accuracy: 0.8676\n",
            "Epoch 19/27\n",
            "8/8 [==============================] - 2s 258ms/step - loss: 0.3296 - accuracy: 0.8805\n",
            "Epoch 20/27\n",
            "8/8 [==============================] - 2s 249ms/step - loss: 0.2425 - accuracy: 0.9062\n",
            "Epoch 21/27\n",
            "8/8 [==============================] - 2s 252ms/step - loss: 0.2450 - accuracy: 0.8971\n",
            "Epoch 22/27\n",
            "8/8 [==============================] - 2s 252ms/step - loss: 0.5903 - accuracy: 0.8272\n",
            "Epoch 23/27\n",
            "8/8 [==============================] - 2s 246ms/step - loss: 0.2198 - accuracy: 0.9412\n",
            "Epoch 24/27\n",
            "8/8 [==============================] - 2s 257ms/step - loss: 0.2408 - accuracy: 0.8952\n",
            "Epoch 25/27\n",
            "8/8 [==============================] - 2s 252ms/step - loss: 0.1173 - accuracy: 0.9577\n",
            "Epoch 26/27\n",
            "8/8 [==============================] - 2s 255ms/step - loss: 0.1094 - accuracy: 0.9559\n",
            "Epoch 27/27\n",
            "8/8 [==============================] - 2s 253ms/step - loss: 0.1597 - accuracy: 0.9320\n"
          ]
        },
        {
          "output_type": "execute_result",
          "data": {
            "text/plain": [
              "<keras.callbacks.History at 0x7f2b14278a00>"
            ]
          },
          "metadata": {},
          "execution_count": 12
        }
      ],
      "source": [
        "model9 = modelo_9()\n",
        "model9.fit(\n",
        "      imagens_treinamento,\n",
        "      steps_per_epoch=8,  # total de x imagens e cada batch com y imagens , logo o passo será x/y \n",
        "      epochs=27,     \n",
        "      verbose=1)"
      ]
    },
    {
      "cell_type": "code",
      "execution_count": null,
      "metadata": {
        "id": "nwDYDydhwe8J"
      },
      "outputs": [],
      "source": []
    },
    {
      "cell_type": "code",
      "execution_count": null,
      "metadata": {
        "colab": {
          "base_uri": "https://localhost:8080/"
        },
        "id": "SY-UbL_Ri9z2",
        "outputId": "1f6d7564-135e-4051-b836-09a23ca9140f"
      },
      "outputs": [
        {
          "output_type": "stream",
          "name": "stdout",
          "text": [
            "Epoch 1/15\n",
            "8/8 [==============================] - 3s 249ms/step - loss: 0.7745 - accuracy: 0.5257\n",
            "Epoch 2/15\n",
            "8/8 [==============================] - 2s 261ms/step - loss: 0.6847 - accuracy: 0.5331\n",
            "Epoch 3/15\n",
            "8/8 [==============================] - 2s 258ms/step - loss: 0.6946 - accuracy: 0.5496\n",
            "Epoch 4/15\n",
            "8/8 [==============================] - 2s 258ms/step - loss: 0.7522 - accuracy: 0.6103\n",
            "Epoch 5/15\n",
            "8/8 [==============================] - 2s 285ms/step - loss: 0.6290 - accuracy: 0.6728\n",
            "Epoch 6/15\n",
            "8/8 [==============================] - 3s 407ms/step - loss: 0.6382 - accuracy: 0.7114\n",
            "Epoch 7/15\n",
            "8/8 [==============================] - 2s 264ms/step - loss: 0.5809 - accuracy: 0.7224\n",
            "Epoch 8/15\n",
            "8/8 [==============================] - 2s 259ms/step - loss: 0.5579 - accuracy: 0.6967\n",
            "Epoch 9/15\n",
            "8/8 [==============================] - 2s 262ms/step - loss: 0.5502 - accuracy: 0.7684\n",
            "Epoch 10/15\n",
            "8/8 [==============================] - 2s 260ms/step - loss: 0.4099 - accuracy: 0.8272\n",
            "Epoch 11/15\n",
            "8/8 [==============================] - 2s 257ms/step - loss: 0.3353 - accuracy: 0.8676\n",
            "Epoch 12/15\n",
            "8/8 [==============================] - 2s 270ms/step - loss: 0.2721 - accuracy: 0.9044\n",
            "Epoch 13/15\n",
            "8/8 [==============================] - 2s 265ms/step - loss: 0.3133 - accuracy: 0.8732\n",
            "Epoch 14/15\n",
            "8/8 [==============================] - 2s 272ms/step - loss: 0.2188 - accuracy: 0.9173\n",
            "Epoch 15/15\n",
            "8/8 [==============================] - 2s 269ms/step - loss: 0.1020 - accuracy: 0.9614\n"
          ]
        },
        {
          "output_type": "execute_result",
          "data": {
            "text/plain": [
              "<keras.callbacks.History at 0x7f2b1405a640>"
            ]
          },
          "metadata": {},
          "execution_count": 13
        }
      ],
      "source": [
        "model10 = modelo_10()\n",
        "model10.fit(\n",
        "      imagens_treinamento,\n",
        "      steps_per_epoch=8,  # total de x imagens e cada batch com y imagens , logo o passo será x/y \n",
        "      epochs=15,     \n",
        "      verbose=1)"
      ]
    },
    {
      "cell_type": "code",
      "execution_count": null,
      "metadata": {
        "id": "OZJfyxonQz_z"
      },
      "outputs": [],
      "source": []
    },
    {
      "cell_type": "markdown",
      "metadata": {
        "id": "UjtTKQDCjne8"
      },
      "source": [
        "#### Estatísticas"
      ]
    },
    {
      "cell_type": "code",
      "execution_count": null,
      "metadata": {
        "id": "uEAn8btYISGR"
      },
      "outputs": [],
      "source": [
        "#n = 100 #int(input('Quantas repetições para avaliação?\\n'))"
      ]
    },
    {
      "cell_type": "code",
      "source": [
        "len(os.listdir('/content/drive/MyDrive/TCC/Videos/Validação/Nao_Fumaca'))"
      ],
      "metadata": {
        "colab": {
          "base_uri": "https://localhost:8080/"
        },
        "id": "OFapkRPJitum",
        "outputId": "bba7392f-4f05-492c-9159-a9cfd07c9212"
      },
      "execution_count": null,
      "outputs": [
        {
          "output_type": "execute_result",
          "data": {
            "text/plain": [
              "53"
            ]
          },
          "metadata": {},
          "execution_count": 11
        }
      ]
    },
    {
      "cell_type": "code",
      "source": [
        "n = sum([len(os.listdir('/content/drive/MyDrive/TCC/Videos/Validação/Fumaca')) ,len(os.listdir('/content/drive/MyDrive/TCC/Videos/Validação/Nao_Fumaca'))])\n",
        "n"
      ],
      "metadata": {
        "colab": {
          "base_uri": "https://localhost:8080/"
        },
        "id": "vCbMFvawPZo3",
        "outputId": "0cca91a3-9795-43a1-986c-251f3d327ea7"
      },
      "execution_count": null,
      "outputs": [
        {
          "output_type": "execute_result",
          "data": {
            "text/plain": [
              "95"
            ]
          },
          "metadata": {},
          "execution_count": 10
        }
      ]
    },
    {
      "cell_type": "markdown",
      "metadata": {
        "id": "does8-uoQ0o7"
      },
      "source": [
        "##### Modelo 9"
      ]
    },
    {
      "cell_type": "code",
      "execution_count": null,
      "metadata": {
        "id": "zLAJ-KL02jZw"
      },
      "outputs": [],
      "source": [
        "#%cd '/content/drive/MyDrive/TCC/Videos/Validação'"
      ]
    },
    {
      "cell_type": "code",
      "execution_count": null,
      "metadata": {
        "id": "rZB6imkTC04C"
      },
      "outputs": [],
      "source": [
        "import os\n",
        "import numpy as np\n",
        "from tensorflow.keras.utils import load_img, img_to_array\n",
        "import random "
      ]
    },
    {
      "cell_type": "markdown",
      "source": [
        "###### teste com o banco de dados de validação\n"
      ],
      "metadata": {
        "id": "2iz6hegztPHN"
      }
    },
    {
      "cell_type": "code",
      "execution_count": null,
      "metadata": {
        "id": "xPTYPZd4HjWI"
      },
      "outputs": [],
      "source": [
        "# validação com imagens do banco de dados"
      ]
    },
    {
      "cell_type": "code",
      "execution_count": null,
      "metadata": {
        "id": "9q-JOuyEMxL-"
      },
      "outputs": [],
      "source": [
        "positivo, negativo, falso_positivo, falso_negativo = 0,0,0,0"
      ]
    },
    {
      "cell_type": "code",
      "execution_count": null,
      "metadata": {
        "id": "CHkDzrjtI5Vv"
      },
      "outputs": [],
      "source": [
        "diretorio = 0 #fumaca\n",
        "\n",
        "for i in os.listdir('/content/drive/MyDrive/TCC/Videos/Validação/Fumaca'):\n",
        "  print(i)\n",
        "\n",
        "  path = os.path.join('/content/drive/MyDrive/TCC/Videos/Validação/Fumaca',i)  # usa uma foto do diretorio fumaca\n",
        "  #   #path = os.path.join('/content/drive/MyDrive/TCC/Videos/Validação Inedito/Fumaca_internet',random.choice(fumaca))\n",
        "  # else:\n",
        "  #   path = os.path.join('/content/drive/MyDrive/TCC/Videos/Validação/Nao_Fumaca',i) # usa uma foto aleatoria do diretorio nao fumaca\n",
        "  #   #path = os.path.join('/content/drive/MyDrive/TCC/Videos/Validação Inedito/Nao_Fumaca_internet',random.choice(nao_fumaca))\n",
        "  img = load_img(path, target_size=(300, 300))\n",
        "  x = img_to_array(img)\n",
        "  x /= 255\n",
        "  x = np.expand_dims(x, axis=0)\n",
        "\n",
        "  images = np.vstack([x])\n",
        "  classes = model9.predict(images, batch_size=10)\n",
        "\n",
        "\n",
        "  if   classes[0] < 0.5 and diretorio == 0: # se a rede classificou certo fumaca:\n",
        "    positivo += 1\n",
        "  \n",
        "  elif classes[0] > 0.5 and diretorio == 1: # se a rede classificou certo como nao fumaca\n",
        "    negativo += 1\n",
        "\n",
        "  elif classes[0] > 0.5 and diretorio == 0: # se a rede classificou errado como fumaca:\n",
        "    falso_positivo += 1\n",
        "\n",
        "  elif classes[0] < 0.5 and diretorio == 1: # se a rede classificou errado como nao fumaca\n",
        "    falso_negativo += 1\n",
        "\n",
        "    \n",
        "  if classes[0]>0.5:\n",
        "    print(path + \" não é fumaça\")\n",
        "  else:\n",
        "    print(path + \" é fumaça \")  \n"
      ]
    },
    {
      "cell_type": "code",
      "execution_count": null,
      "metadata": {
        "id": "kg94e3z0Mw4y"
      },
      "outputs": [],
      "source": [
        "diretorio = 1 # nao fumaca\n",
        "\n",
        "for i in os.listdir('/content/drive/MyDrive/TCC/Videos/Validação/Nao_Fumaca'):\n",
        "  print(i)\n",
        "\n",
        "  #   #path = os.path.join('/content/drive/MyDrive/TCC/Videos/Validação Inedito/Fumaca_internet',random.choice(fumaca))\n",
        "  # else:\n",
        "  path = os.path.join('/content/drive/MyDrive/TCC/Videos/Validação/Nao_Fumaca',i) # usa uma foto aleatoria do diretorio nao fumaca\n",
        "  #   #path = os.path.join('/content/drive/MyDrive/TCC/Videos/Validação Inedito/Nao_Fumaca_internet',random.choice(nao_fumaca))\n",
        "  img = load_img(path, target_size=(300, 300))\n",
        "  x = img_to_array(img)\n",
        "  x /= 255\n",
        "  x = np.expand_dims(x, axis=0)\n",
        "\n",
        "  images = np.vstack([x])\n",
        "  classes = model9.predict(images, batch_size=10)\n",
        "\n",
        "\n",
        "  if   classes[0] < 0.5 and diretorio == 0: # se a rede classificou certo fumaca:\n",
        "    positivo += 1\n",
        "  \n",
        "  elif classes[0] > 0.5 and diretorio == 1: # se a rede classificou certo como nao fumaca\n",
        "    negativo += 1\n",
        "\n",
        "  elif classes[0] > 0.5 and diretorio == 0: # se a rede classificou errado como fumaca:\n",
        "    falso_positivo += 1\n",
        "\n",
        "  elif classes[0] < 0.5 and diretorio == 1: # se a rede classificou errado como nao fumaca\n",
        "    falso_negativo += 1\n",
        "\n",
        "    \n",
        "  if classes[0]>0.5:\n",
        "    print(path + \" não é fumaça\")\n",
        "  else:\n",
        "    print(path + \" é fumaça \")  \n"
      ]
    },
    {
      "cell_type": "code",
      "source": [
        "print(positivo, negativo, falso_positivo, falso_negativo)"
      ],
      "metadata": {
        "colab": {
          "base_uri": "https://localhost:8080/"
        },
        "id": "Xh0iGighN2vu",
        "outputId": "e8cb6420-ea32-4285-b9e0-b9fbc14a97be"
      },
      "execution_count": null,
      "outputs": [
        {
          "output_type": "stream",
          "name": "stdout",
          "text": [
            "42 49 0 4\n"
          ]
        }
      ]
    },
    {
      "cell_type": "code",
      "source": [
        "with open(f'Teste de confiabilidade (banco de dados) ({n} testes) (modelo 9)', 'w+') as m:\n",
        "  m.write(f'Resultados do teste de validação:\\n')\n",
        "  m.write(f'positivos: {positivo}\\n')\n",
        "  m.write(f'negativos: {negativo}\\n')\n",
        "  m.write(f'falto positivo: {falso_positivo}\\n')\n",
        "  m.write(f'falso negativo: {falso_negativo}\\n')"
      ],
      "metadata": {
        "id": "Y8BVjbaLNnIu"
      },
      "execution_count": null,
      "outputs": []
    },
    {
      "cell_type": "markdown",
      "source": [
        "###### Teste com as imagens da internet"
      ],
      "metadata": {
        "id": "HSHCiVN8tcyQ"
      }
    },
    {
      "cell_type": "code",
      "execution_count": null,
      "metadata": {
        "id": "afVw5ylZv2MT"
      },
      "outputs": [],
      "source": [
        "positivo, negativo, falso_positivo, falso_negativo = 0,0,0,0"
      ]
    },
    {
      "cell_type": "code",
      "execution_count": null,
      "metadata": {
        "id": "KOtFLOJQue5h"
      },
      "outputs": [],
      "source": [
        "diretorio = 0 #fumaca\n",
        "\n",
        "for i in os.listdir('/content/drive/MyDrive/TCC/Videos/Validação Inedito/Fumaca_internet'):\n",
        "  print(i)\n",
        "\n",
        "  path = os.path.join('/content/drive/MyDrive/TCC/Videos/Validação Inedito/Fumaca_internet',i)  # usa uma foto do diretorio fumaca\n",
        "  #   #path = os.path.join('/content/drive/MyDrive/TCC/Videos/Validação Inedito/Fumaca_internet',random.choice(fumaca))\n",
        "  # else:\n",
        "  #   path = os.path.join('/content/drive/MyDrive/TCC/Videos/Validação/Nao_Fumaca',i) # usa uma foto aleatoria do diretorio nao fumaca\n",
        "  #   #path = os.path.join('/content/drive/MyDrive/TCC/Videos/Validação Inedito/Nao_Fumaca_internet',random.choice(nao_fumaca))\n",
        "  img = load_img(path, target_size=(300, 300))\n",
        "  x = img_to_array(img)\n",
        "  x /= 255\n",
        "  x = np.expand_dims(x, axis=0)\n",
        "\n",
        "  images = np.vstack([x])\n",
        "  classes = model9.predict(images, batch_size=10)\n",
        "\n",
        "\n",
        "  if   classes[0] < 0.5 and diretorio == 0: # se a rede classificou certo fumaca:\n",
        "    positivo += 1\n",
        "  \n",
        "  elif classes[0] > 0.5 and diretorio == 1: # se a rede classificou certo como nao fumaca\n",
        "    negativo += 1\n",
        "\n",
        "  elif classes[0] > 0.5 and diretorio == 0: # se a rede classificou errado como fumaca:\n",
        "    falso_positivo += 1\n",
        "\n",
        "  elif classes[0] < 0.5 and diretorio == 1: # se a rede classificou errado como nao fumaca\n",
        "    falso_negativo += 1\n",
        "\n",
        "    \n",
        "  if classes[0]>0.5:\n",
        "    print(path + \" não é fumaça\")\n",
        "  else:\n",
        "    print(path + \" é fumaça \")  \n"
      ]
    },
    {
      "cell_type": "code",
      "execution_count": null,
      "metadata": {
        "id": "e3YbCEQZuio7"
      },
      "outputs": [],
      "source": [
        "diretorio = 1 # nao fumaca\n",
        "\n",
        "for i in os.listdir('/content/drive/MyDrive/TCC/Videos/Validação Inedito/Nao_Fumaca_internet'):\n",
        "  print(i)\n",
        "\n",
        "  path = os.path.join('/content/drive/MyDrive/TCC/Videos/Validação Inedito/Nao_Fumaca_internet',i) # usa uma foto aleatoria do diretorio nao fumaca\n",
        "\n",
        "  img = load_img(path, target_size=(300, 300))\n",
        "  x = img_to_array(img)\n",
        "  x /= 255\n",
        "  x = np.expand_dims(x, axis=0)\n",
        "\n",
        "  images = np.vstack([x])\n",
        "  classes = model9.predict(images, batch_size=10)\n",
        "\n",
        "\n",
        "  if   classes[0] < 0.5 and diretorio == 0: # se a rede classificou certo fumaca:\n",
        "    positivo += 1\n",
        "  \n",
        "  elif classes[0] > 0.5 and diretorio == 1: # se a rede classificou certo como nao fumaca\n",
        "    negativo += 1\n",
        "\n",
        "  elif classes[0] > 0.5 and diretorio == 0: # se a rede classificou errado como fumaca:\n",
        "    falso_positivo += 1\n",
        "\n",
        "  elif classes[0] < 0.5 and diretorio == 1: # se a rede classificou errado como nao fumaca\n",
        "    falso_negativo += 1\n",
        "\n",
        "    \n",
        "  if classes[0]>0.5:\n",
        "    print(path + \" não é fumaça\")\n",
        "  else:\n",
        "    print(path + \" é fumaça \")  \n"
      ]
    },
    {
      "cell_type": "code",
      "source": [
        "print(positivo, negativo, falso_positivo, falso_negativo)"
      ],
      "metadata": {
        "colab": {
          "base_uri": "https://localhost:8080/"
        },
        "id": "mcfmIke5wYf5",
        "outputId": "3fe18df3-8e4b-48af-8571-e97714772dd9"
      },
      "execution_count": null,
      "outputs": [
        {
          "output_type": "stream",
          "name": "stdout",
          "text": [
            "17 0 8 25\n"
          ]
        }
      ]
    },
    {
      "cell_type": "code",
      "execution_count": null,
      "metadata": {
        "id": "23IS7Rk7vF9P"
      },
      "outputs": [],
      "source": [
        "with open(f'Teste de Validação inedito (internet) ({n} testes) (modelo 9)', 'w+') as m:\n",
        "  m.write(f'Resultados do teste de validação:\\n')\n",
        "  m.write(f'positivos: {positivo}\\n')\n",
        "  m.write(f'negativos: {negativo}\\n')\n",
        "  m.write(f'falto positivo: {falso_positivo}\\n')\n",
        "  m.write(f'falso negativo: {falso_negativo}\\n')"
      ]
    },
    {
      "cell_type": "markdown",
      "source": [
        "###### Teste com coleta aleatória das imagens"
      ],
      "metadata": {
        "id": "CFy5N2R9M0ZX"
      }
    },
    {
      "cell_type": "code",
      "execution_count": null,
      "metadata": {
        "id": "eohlH1MlHUp_"
      },
      "outputs": [],
      "source": [
        "dir = [0,1]"
      ]
    },
    {
      "cell_type": "code",
      "execution_count": null,
      "metadata": {
        "id": "t1UCQoFfw2IV"
      },
      "outputs": [],
      "source": [
        "# validação com imagens do banco de dados\n",
        "fumaca = os.listdir('/content/drive/MyDrive/TCC/Videos/Validação/Fumaca')\n",
        "nao_fumaca = os.listdir('/content/drive/MyDrive/TCC/Videos/Validação/Nao_Fumaca')"
      ]
    },
    {
      "cell_type": "code",
      "execution_count": null,
      "metadata": {
        "id": "iNhbnXdtw6DJ"
      },
      "outputs": [],
      "source": [
        "# # validação com imagens da internet\n",
        "# fumaca = os.listdir('/content/drive/MyDrive/TCC/Videos/Validação Inedito/Fumaca_internet')\n",
        "# nao_fumaca = os.listdir('/content/drive/MyDrive/TCC/Videos/Validação Inedito/Nao_Fumaca_internet')"
      ]
    },
    {
      "cell_type": "code",
      "execution_count": null,
      "metadata": {
        "id": "velJ8ccWt7CV"
      },
      "outputs": [],
      "source": [
        "positivo, negativo, falso_positivo, falso_negativo = 0,0,0,0"
      ]
    },
    {
      "cell_type": "code",
      "execution_count": null,
      "metadata": {
        "id": "mNVEJmyFHUKP"
      },
      "outputs": [],
      "source": [
        "for i in range(n):\n",
        "  n_aleatorio = random.choice(dir)  # escolhe aleatoriamente  fumaca ou nao fumaca\n",
        "\n",
        "  if n_aleatorio == 0:\n",
        "    path = os.path.join('/content/drive/MyDrive/TCC/Videos/Validação/Fumaca',random.choice(fumaca))  # usa uma foto aleatoria do diretorio fumaca\n",
        "    #path = os.path.join('/content/drive/MyDrive/TCC/Videos/Validação Inedito/Fumaca_internet',random.choice(fumaca))\n",
        "  else:\n",
        "    path = os.path.join('/content/drive/MyDrive/TCC/Videos/Validação/Nao_Fumaca',random.choice(nao_fumaca)) # usa uma foto aleatoria do diretorio nao fumaca\n",
        "    #path = os.path.join('/content/drive/MyDrive/TCC/Videos/Validação Inedito/Nao_Fumaca_internet',random.choice(nao_fumaca))\n",
        "  img = load_img(path, target_size=(300, 300))\n",
        "  x = img_to_array(img)\n",
        "  x /= 255\n",
        "  x = np.expand_dims(x, axis=0)\n",
        "\n",
        "  images = np.vstack([x])\n",
        "  classes = model9.predict(images, batch_size=10)\n",
        "\n",
        "\n",
        "  if   classes[0] < 0.5 and n_aleatorio == 0: # se a rede classificou certo fumaca:\n",
        "    positivo += 1\n",
        "  \n",
        "  elif classes[0] > 0.5 and n_aleatorio == 1: # se a rede classificou certo como nao fumaca\n",
        "    negativo += 1\n",
        "\n",
        "  elif classes[0] > 0.5 and n_aleatorio == 0: # se a rede classificou errado como fumaca:\n",
        "    falso_positivo += 1\n",
        "\n",
        "  elif classes[0] < 0.5 and n_aleatorio == 1: # se a rede classificou errado como nao fumaca\n",
        "    falso_negativo += 1\n",
        "\n",
        "    \n",
        "  if classes[0]>0.5:\n",
        "    print(path + \" não é fumaça\")\n",
        "  else:\n",
        "    print(path + \" é fumaça \")  \n"
      ]
    },
    {
      "cell_type": "code",
      "execution_count": null,
      "metadata": {
        "id": "qcZ7u2ceAFub"
      },
      "outputs": [],
      "source": [
        "with open('Teste de Validação  (banco de dados) (1000 testes aleatorios) (modelo 9)', 'w+') as m:\n",
        "  m.write(f'Resultados do teste de validação:\\n')\n",
        "  m.write(f'positivos: {positivo}\\n')\n",
        "  m.write(f'negativos: {negativo}\\n')\n",
        "  m.write(f'falto positivo: {falso_positivo}\\n')\n",
        "  m.write(f'falso negativo: {falso_negativo}\\n')"
      ]
    },
    {
      "cell_type": "code",
      "execution_count": null,
      "metadata": {
        "id": "_m37H2ReA_A-"
      },
      "outputs": [],
      "source": [
        "# # validação com imagens da internet\n",
        "# fumaca = os.listdir('/content/drive/MyDrive/TCC/Videos/Validação Inedito/Fumaca_internet')\n",
        "# nao_fumaca = os.listdir('/content/drive/MyDrive/TCC/Videos/Validação Inedito/Nao_Fumaca_internet')"
      ]
    },
    {
      "cell_type": "code",
      "source": [],
      "metadata": {
        "id": "da7RDMosyuFT"
      },
      "execution_count": null,
      "outputs": []
    },
    {
      "cell_type": "markdown",
      "metadata": {
        "id": "mUAR6esCyvOI"
      },
      "source": [
        "##### Modelo 10"
      ]
    },
    {
      "cell_type": "code",
      "execution_count": null,
      "metadata": {
        "id": "iqbzvMZSyvOI"
      },
      "outputs": [],
      "source": [
        "#%cd '/content/drive/MyDrive/TCC/Videos/Validação'"
      ]
    },
    {
      "cell_type": "code",
      "execution_count": null,
      "metadata": {
        "id": "cTmEy6LmyvOI"
      },
      "outputs": [],
      "source": [
        "import os\n",
        "import numpy as np\n",
        "from tensorflow.keras.utils import load_img, img_to_array\n",
        "import random "
      ]
    },
    {
      "cell_type": "markdown",
      "source": [
        "###### teste com o banco de dados de validação\n"
      ],
      "metadata": {
        "id": "JEW1QUdbyvOI"
      }
    },
    {
      "cell_type": "code",
      "execution_count": null,
      "metadata": {
        "id": "95PpBjQ-yvOI"
      },
      "outputs": [],
      "source": [
        "# validação com imagens do banco de dados"
      ]
    },
    {
      "cell_type": "code",
      "execution_count": null,
      "metadata": {
        "id": "Js9xlm_XyvOI"
      },
      "outputs": [],
      "source": [
        "positivo, negativo, falso_positivo, falso_negativo = 0,0,0,0"
      ]
    },
    {
      "cell_type": "code",
      "execution_count": null,
      "metadata": {
        "colab": {
          "base_uri": "https://localhost:8080/"
        },
        "id": "PSR7ZR1MyvOJ",
        "outputId": "c6654e1f-1f81-419e-dfa8-99747178b3f3"
      },
      "outputs": [
        {
          "output_type": "stream",
          "name": "stdout",
          "text": [
            "Corte14.jpeg\n",
            "1/1 [==============================] - 0s 15ms/step\n",
            "/content/drive/MyDrive/TCC/Videos/Validação/Fumaca/Corte14.jpeg é fumaça \n",
            "Corte19.jpeg\n",
            "1/1 [==============================] - 0s 18ms/step\n",
            "/content/drive/MyDrive/TCC/Videos/Validação/Fumaca/Corte19.jpeg é fumaça \n",
            "Corte24.jpeg\n",
            "1/1 [==============================] - 0s 15ms/step\n",
            "/content/drive/MyDrive/TCC/Videos/Validação/Fumaca/Corte24.jpeg é fumaça \n",
            "Corte29.jpeg\n",
            "1/1 [==============================] - 0s 14ms/step\n",
            "/content/drive/MyDrive/TCC/Videos/Validação/Fumaca/Corte29.jpeg é fumaça \n",
            "Corte34.jpeg\n",
            "1/1 [==============================] - 0s 21ms/step\n",
            "/content/drive/MyDrive/TCC/Videos/Validação/Fumaca/Corte34.jpeg é fumaça \n",
            "Corte44.jpeg\n",
            "1/1 [==============================] - 0s 23ms/step\n",
            "/content/drive/MyDrive/TCC/Videos/Validação/Fumaca/Corte44.jpeg é fumaça \n",
            "Corte49.jpeg\n",
            "1/1 [==============================] - 0s 19ms/step\n",
            "/content/drive/MyDrive/TCC/Videos/Validação/Fumaca/Corte49.jpeg é fumaça \n",
            "Corte54.jpeg\n",
            "1/1 [==============================] - 0s 16ms/step\n",
            "/content/drive/MyDrive/TCC/Videos/Validação/Fumaca/Corte54.jpeg é fumaça \n",
            "Corte59.jpeg\n",
            "1/1 [==============================] - 0s 15ms/step\n",
            "/content/drive/MyDrive/TCC/Videos/Validação/Fumaca/Corte59.jpeg é fumaça \n",
            "Corte64.jpeg\n",
            "1/1 [==============================] - 0s 17ms/step\n",
            "/content/drive/MyDrive/TCC/Videos/Validação/Fumaca/Corte64.jpeg é fumaça \n",
            "Corte69.jpeg\n",
            "1/1 [==============================] - 0s 19ms/step\n",
            "/content/drive/MyDrive/TCC/Videos/Validação/Fumaca/Corte69.jpeg é fumaça \n",
            "Corte99.jpeg\n",
            "1/1 [==============================] - 0s 22ms/step\n",
            "/content/drive/MyDrive/TCC/Videos/Validação/Fumaca/Corte99.jpeg é fumaça \n",
            "Corte109.jpeg\n",
            "1/1 [==============================] - 0s 18ms/step\n",
            "/content/drive/MyDrive/TCC/Videos/Validação/Fumaca/Corte109.jpeg é fumaça \n",
            "Corte114.jpeg\n",
            "1/1 [==============================] - 0s 17ms/step\n",
            "/content/drive/MyDrive/TCC/Videos/Validação/Fumaca/Corte114.jpeg é fumaça \n",
            "Corte119.jpeg\n",
            "1/1 [==============================] - 0s 20ms/step\n",
            "/content/drive/MyDrive/TCC/Videos/Validação/Fumaca/Corte119.jpeg é fumaça \n",
            "Corte144.jpeg\n",
            "1/1 [==============================] - 0s 17ms/step\n",
            "/content/drive/MyDrive/TCC/Videos/Validação/Fumaca/Corte144.jpeg é fumaça \n",
            "Corte149.jpeg\n",
            "1/1 [==============================] - 0s 17ms/step\n",
            "/content/drive/MyDrive/TCC/Videos/Validação/Fumaca/Corte149.jpeg é fumaça \n",
            "Corte154.jpeg\n",
            "1/1 [==============================] - 0s 18ms/step\n",
            "/content/drive/MyDrive/TCC/Videos/Validação/Fumaca/Corte154.jpeg é fumaça \n",
            "Corte159.jpeg\n",
            "1/1 [==============================] - 0s 34ms/step\n",
            "/content/drive/MyDrive/TCC/Videos/Validação/Fumaca/Corte159.jpeg é fumaça \n",
            "Corte169.jpeg\n",
            "1/1 [==============================] - 0s 19ms/step\n",
            "/content/drive/MyDrive/TCC/Videos/Validação/Fumaca/Corte169.jpeg é fumaça \n",
            "Corte174.jpeg\n",
            "1/1 [==============================] - 0s 17ms/step\n",
            "/content/drive/MyDrive/TCC/Videos/Validação/Fumaca/Corte174.jpeg é fumaça \n",
            "Corte179.jpeg\n",
            "1/1 [==============================] - 0s 22ms/step\n",
            "/content/drive/MyDrive/TCC/Videos/Validação/Fumaca/Corte179.jpeg é fumaça \n",
            "Corte184.jpeg\n",
            "1/1 [==============================] - 0s 18ms/step\n",
            "/content/drive/MyDrive/TCC/Videos/Validação/Fumaca/Corte184.jpeg é fumaça \n",
            "Corte199.jpeg\n",
            "1/1 [==============================] - 0s 16ms/step\n",
            "/content/drive/MyDrive/TCC/Videos/Validação/Fumaca/Corte199.jpeg é fumaça \n",
            "Corte204.jpeg\n",
            "1/1 [==============================] - 0s 18ms/step\n",
            "/content/drive/MyDrive/TCC/Videos/Validação/Fumaca/Corte204.jpeg é fumaça \n",
            "Corte209.jpeg\n",
            "1/1 [==============================] - 0s 15ms/step\n",
            "/content/drive/MyDrive/TCC/Videos/Validação/Fumaca/Corte209.jpeg é fumaça \n",
            "Corte214.jpeg\n",
            "1/1 [==============================] - 0s 17ms/step\n",
            "/content/drive/MyDrive/TCC/Videos/Validação/Fumaca/Corte214.jpeg é fumaça \n",
            "Corte219.jpeg\n",
            "1/1 [==============================] - 0s 18ms/step\n",
            "/content/drive/MyDrive/TCC/Videos/Validação/Fumaca/Corte219.jpeg é fumaça \n",
            "Corte224.jpeg\n",
            "1/1 [==============================] - 0s 18ms/step\n",
            "/content/drive/MyDrive/TCC/Videos/Validação/Fumaca/Corte224.jpeg é fumaça \n",
            "Corte229.jpeg\n",
            "1/1 [==============================] - 0s 17ms/step\n",
            "/content/drive/MyDrive/TCC/Videos/Validação/Fumaca/Corte229.jpeg é fumaça \n",
            "Corte234.jpeg\n",
            "1/1 [==============================] - 0s 20ms/step\n",
            "/content/drive/MyDrive/TCC/Videos/Validação/Fumaca/Corte234.jpeg é fumaça \n",
            "Corte239.jpeg\n",
            "1/1 [==============================] - 0s 20ms/step\n",
            "/content/drive/MyDrive/TCC/Videos/Validação/Fumaca/Corte239.jpeg é fumaça \n",
            "Corte244.jpeg\n",
            "1/1 [==============================] - 0s 16ms/step\n",
            "/content/drive/MyDrive/TCC/Videos/Validação/Fumaca/Corte244.jpeg é fumaça \n",
            "Corte249.jpeg\n",
            "1/1 [==============================] - 0s 22ms/step\n",
            "/content/drive/MyDrive/TCC/Videos/Validação/Fumaca/Corte249.jpeg é fumaça \n",
            "Corte254.jpeg\n",
            "1/1 [==============================] - 0s 22ms/step\n",
            "/content/drive/MyDrive/TCC/Videos/Validação/Fumaca/Corte254.jpeg é fumaça \n",
            "Corte259.jpeg\n",
            "1/1 [==============================] - 0s 19ms/step\n",
            "/content/drive/MyDrive/TCC/Videos/Validação/Fumaca/Corte259.jpeg é fumaça \n",
            "Corte264.jpeg\n",
            "1/1 [==============================] - 0s 17ms/step\n",
            "/content/drive/MyDrive/TCC/Videos/Validação/Fumaca/Corte264.jpeg é fumaça \n",
            "Corte269.jpeg\n",
            "1/1 [==============================] - 0s 27ms/step\n",
            "/content/drive/MyDrive/TCC/Videos/Validação/Fumaca/Corte269.jpeg é fumaça \n",
            "Corte274.jpeg\n",
            "1/1 [==============================] - 0s 15ms/step\n",
            "/content/drive/MyDrive/TCC/Videos/Validação/Fumaca/Corte274.jpeg é fumaça \n",
            "Corte279.jpeg\n",
            "1/1 [==============================] - 0s 17ms/step\n",
            "/content/drive/MyDrive/TCC/Videos/Validação/Fumaca/Corte279.jpeg é fumaça \n",
            "Corte284.jpeg\n",
            "1/1 [==============================] - 0s 22ms/step\n",
            "/content/drive/MyDrive/TCC/Videos/Validação/Fumaca/Corte284.jpeg é fumaça \n",
            "Corte289.jpeg\n",
            "1/1 [==============================] - 0s 15ms/step\n",
            "/content/drive/MyDrive/TCC/Videos/Validação/Fumaca/Corte289.jpeg é fumaça \n"
          ]
        }
      ],
      "source": [
        "diretorio = 0 #fumaca\n",
        "\n",
        "for i in os.listdir('/content/drive/MyDrive/TCC/Videos/Validação/Fumaca'):\n",
        "  print(i)\n",
        "\n",
        "  path = os.path.join('/content/drive/MyDrive/TCC/Videos/Validação/Fumaca',i)  # usa uma foto do diretorio fumaca\n",
        "  #   #path = os.path.join('/content/drive/MyDrive/TCC/Videos/Validação Inedito/Fumaca_internet',random.choice(fumaca))\n",
        "  # else:\n",
        "  #   path = os.path.join('/content/drive/MyDrive/TCC/Videos/Validação/Nao_Fumaca',i) # usa uma foto aleatoria do diretorio nao fumaca\n",
        "  #   #path = os.path.join('/content/drive/MyDrive/TCC/Videos/Validação Inedito/Nao_Fumaca_internet',random.choice(nao_fumaca))\n",
        "  img = load_img(path, target_size=(300, 300))\n",
        "  x = img_to_array(img)\n",
        "  x /= 255\n",
        "  x = np.expand_dims(x, axis=0)\n",
        "\n",
        "  images = np.vstack([x])\n",
        "  classes = model10.predict(images, batch_size=10)\n",
        "\n",
        "\n",
        "  if   classes[0] < 0.5 and diretorio == 0: # se a rede classificou certo fumaca:\n",
        "    positivo += 1\n",
        "  \n",
        "  elif classes[0] > 0.5 and diretorio == 1: # se a rede classificou certo como nao fumaca\n",
        "    negativo += 1\n",
        "\n",
        "  elif classes[0] > 0.5 and diretorio == 0: # se a rede classificou errado como fumaca:\n",
        "    falso_positivo += 1\n",
        "\n",
        "  elif classes[0] < 0.5 and diretorio == 1: # se a rede classificou errado como nao fumaca\n",
        "    falso_negativo += 1\n",
        "\n",
        "    \n",
        "  if classes[0]>0.5:\n",
        "    print(path + \" não é fumaça\")\n",
        "  else:\n",
        "    print(path + \" é fumaça \")  \n"
      ]
    },
    {
      "cell_type": "code",
      "execution_count": null,
      "metadata": {
        "colab": {
          "base_uri": "https://localhost:8080/"
        },
        "id": "YhRAg6eXyvOJ",
        "outputId": "54a4056e-fd9b-43e0-f8f2-78dd0fbdf7da"
      },
      "outputs": [
        {
          "output_type": "stream",
          "name": "stdout",
          "text": [
            "Corte5.jpeg\n",
            "1/1 [==============================] - 0s 21ms/step\n",
            "/content/drive/MyDrive/TCC/Videos/Validação/Nao_Fumaca/Corte5.jpeg não é fumaça\n",
            "Corte11.jpeg\n",
            "1/1 [==============================] - 0s 14ms/step\n",
            "/content/drive/MyDrive/TCC/Videos/Validação/Nao_Fumaca/Corte11.jpeg não é fumaça\n",
            "Corte17.jpeg\n",
            "1/1 [==============================] - 0s 17ms/step\n",
            "/content/drive/MyDrive/TCC/Videos/Validação/Nao_Fumaca/Corte17.jpeg não é fumaça\n",
            "Corte23.jpeg\n",
            "1/1 [==============================] - 0s 19ms/step\n",
            "/content/drive/MyDrive/TCC/Videos/Validação/Nao_Fumaca/Corte23.jpeg não é fumaça\n",
            "Corte30.jpeg\n",
            "1/1 [==============================] - 0s 15ms/step\n",
            "/content/drive/MyDrive/TCC/Videos/Validação/Nao_Fumaca/Corte30.jpeg não é fumaça\n",
            "Corte36.jpeg\n",
            "1/1 [==============================] - 0s 17ms/step\n",
            "/content/drive/MyDrive/TCC/Videos/Validação/Nao_Fumaca/Corte36.jpeg não é fumaça\n",
            "Corte42.jpeg\n",
            "1/1 [==============================] - 0s 19ms/step\n",
            "/content/drive/MyDrive/TCC/Videos/Validação/Nao_Fumaca/Corte42.jpeg não é fumaça\n",
            "Corte48.jpeg\n",
            "1/1 [==============================] - 0s 24ms/step\n",
            "/content/drive/MyDrive/TCC/Videos/Validação/Nao_Fumaca/Corte48.jpeg não é fumaça\n",
            "Corte55.jpeg\n",
            "1/1 [==============================] - 0s 20ms/step\n",
            "/content/drive/MyDrive/TCC/Videos/Validação/Nao_Fumaca/Corte55.jpeg não é fumaça\n",
            "Corte61.jpeg\n",
            "1/1 [==============================] - 0s 16ms/step\n",
            "/content/drive/MyDrive/TCC/Videos/Validação/Nao_Fumaca/Corte61.jpeg não é fumaça\n",
            "Corte67.jpeg\n",
            "1/1 [==============================] - 0s 15ms/step\n",
            "/content/drive/MyDrive/TCC/Videos/Validação/Nao_Fumaca/Corte67.jpeg não é fumaça\n",
            "Corte73.jpeg\n",
            "1/1 [==============================] - 0s 19ms/step\n",
            "/content/drive/MyDrive/TCC/Videos/Validação/Nao_Fumaca/Corte73.jpeg não é fumaça\n",
            "Corte80.jpeg\n",
            "1/1 [==============================] - 0s 21ms/step\n",
            "/content/drive/MyDrive/TCC/Videos/Validação/Nao_Fumaca/Corte80.jpeg não é fumaça\n",
            "Corte86.jpeg\n",
            "1/1 [==============================] - 0s 25ms/step\n",
            "/content/drive/MyDrive/TCC/Videos/Validação/Nao_Fumaca/Corte86.jpeg não é fumaça\n",
            "Corte92.jpeg\n",
            "1/1 [==============================] - 0s 20ms/step\n",
            "/content/drive/MyDrive/TCC/Videos/Validação/Nao_Fumaca/Corte92.jpeg não é fumaça\n",
            "Corte98.jpeg\n",
            "1/1 [==============================] - 0s 20ms/step\n",
            "/content/drive/MyDrive/TCC/Videos/Validação/Nao_Fumaca/Corte98.jpeg não é fumaça\n",
            "Corte105.jpeg\n",
            "1/1 [==============================] - 0s 18ms/step\n",
            "/content/drive/MyDrive/TCC/Videos/Validação/Nao_Fumaca/Corte105.jpeg não é fumaça\n",
            "Corte111.jpeg\n",
            "1/1 [==============================] - 0s 20ms/step\n",
            "/content/drive/MyDrive/TCC/Videos/Validação/Nao_Fumaca/Corte111.jpeg não é fumaça\n",
            "Corte117.jpeg\n",
            "1/1 [==============================] - 0s 17ms/step\n",
            "/content/drive/MyDrive/TCC/Videos/Validação/Nao_Fumaca/Corte117.jpeg não é fumaça\n",
            "Corte123.jpeg\n",
            "1/1 [==============================] - 0s 18ms/step\n",
            "/content/drive/MyDrive/TCC/Videos/Validação/Nao_Fumaca/Corte123.jpeg não é fumaça\n",
            "Corte130.jpeg\n",
            "1/1 [==============================] - 0s 24ms/step\n",
            "/content/drive/MyDrive/TCC/Videos/Validação/Nao_Fumaca/Corte130.jpeg não é fumaça\n",
            "Corte136.jpeg\n",
            "1/1 [==============================] - 0s 17ms/step\n",
            "/content/drive/MyDrive/TCC/Videos/Validação/Nao_Fumaca/Corte136.jpeg não é fumaça\n",
            "Corte167.jpeg\n",
            "1/1 [==============================] - 0s 19ms/step\n",
            "/content/drive/MyDrive/TCC/Videos/Validação/Nao_Fumaca/Corte167.jpeg é fumaça \n",
            "Corte173.jpeg\n",
            "1/1 [==============================] - 0s 16ms/step\n",
            "/content/drive/MyDrive/TCC/Videos/Validação/Nao_Fumaca/Corte173.jpeg é fumaça \n",
            "Corte180.jpeg\n",
            "1/1 [==============================] - 0s 19ms/step\n",
            "/content/drive/MyDrive/TCC/Videos/Validação/Nao_Fumaca/Corte180.jpeg não é fumaça\n",
            "Corte186.jpeg\n",
            "1/1 [==============================] - 0s 20ms/step\n",
            "/content/drive/MyDrive/TCC/Videos/Validação/Nao_Fumaca/Corte186.jpeg não é fumaça\n",
            "Corte192.jpeg\n",
            "1/1 [==============================] - 0s 17ms/step\n",
            "/content/drive/MyDrive/TCC/Videos/Validação/Nao_Fumaca/Corte192.jpeg não é fumaça\n",
            "Corte198.jpeg\n",
            "1/1 [==============================] - 0s 17ms/step\n",
            "/content/drive/MyDrive/TCC/Videos/Validação/Nao_Fumaca/Corte198.jpeg não é fumaça\n",
            "Corte148.jpeg\n",
            "1/1 [==============================] - 0s 36ms/step\n",
            "/content/drive/MyDrive/TCC/Videos/Validação/Nao_Fumaca/Corte148.jpeg não é fumaça\n",
            "Corte161.jpeg\n",
            "1/1 [==============================] - 0s 22ms/step\n",
            "/content/drive/MyDrive/TCC/Videos/Validação/Nao_Fumaca/Corte161.jpeg é fumaça \n",
            "Corte205.jpeg\n",
            "1/1 [==============================] - 0s 23ms/step\n",
            "/content/drive/MyDrive/TCC/Videos/Validação/Nao_Fumaca/Corte205.jpeg não é fumaça\n",
            "Corte273.jpeg\n",
            "1/1 [==============================] - 0s 15ms/step\n",
            "/content/drive/MyDrive/TCC/Videos/Validação/Nao_Fumaca/Corte273.jpeg não é fumaça\n",
            "Corte142.jpeg\n",
            "1/1 [==============================] - 0s 19ms/step\n",
            "/content/drive/MyDrive/TCC/Videos/Validação/Nao_Fumaca/Corte142.jpeg não é fumaça\n",
            "Corte236.jpeg\n",
            "1/1 [==============================] - 0s 16ms/step\n",
            "/content/drive/MyDrive/TCC/Videos/Validação/Nao_Fumaca/Corte236.jpeg não é fumaça\n",
            "Corte286.jpeg\n",
            "1/1 [==============================] - 0s 15ms/step\n",
            "/content/drive/MyDrive/TCC/Videos/Validação/Nao_Fumaca/Corte286.jpeg não é fumaça\n",
            "Corte223.jpeg\n",
            "1/1 [==============================] - 0s 18ms/step\n",
            "/content/drive/MyDrive/TCC/Videos/Validação/Nao_Fumaca/Corte223.jpeg não é fumaça\n",
            "Corte292.jpeg\n",
            "1/1 [==============================] - 0s 26ms/step\n",
            "/content/drive/MyDrive/TCC/Videos/Validação/Nao_Fumaca/Corte292.jpeg não é fumaça\n",
            "Corte255.jpeg\n",
            "1/1 [==============================] - 0s 15ms/step\n",
            "/content/drive/MyDrive/TCC/Videos/Validação/Nao_Fumaca/Corte255.jpeg não é fumaça\n",
            "Corte155.jpeg\n",
            "1/1 [==============================] - 0s 19ms/step\n",
            "/content/drive/MyDrive/TCC/Videos/Validação/Nao_Fumaca/Corte155.jpeg é fumaça \n",
            "Corte211.jpeg\n",
            "1/1 [==============================] - 0s 17ms/step\n",
            "/content/drive/MyDrive/TCC/Videos/Validação/Nao_Fumaca/Corte211.jpeg não é fumaça\n",
            "Corte242.jpeg\n",
            "1/1 [==============================] - 0s 17ms/step\n",
            "/content/drive/MyDrive/TCC/Videos/Validação/Nao_Fumaca/Corte242.jpeg não é fumaça\n",
            "Corte280.jpeg\n",
            "1/1 [==============================] - 0s 15ms/step\n",
            "/content/drive/MyDrive/TCC/Videos/Validação/Nao_Fumaca/Corte280.jpeg não é fumaça\n",
            "Corte267.jpeg\n",
            "1/1 [==============================] - 0s 14ms/step\n",
            "/content/drive/MyDrive/TCC/Videos/Validação/Nao_Fumaca/Corte267.jpeg não é fumaça\n",
            "Corte298.jpeg\n",
            "1/1 [==============================] - 0s 17ms/step\n",
            "/content/drive/MyDrive/TCC/Videos/Validação/Nao_Fumaca/Corte298.jpeg não é fumaça\n",
            "Corte261.jpeg\n",
            "1/1 [==============================] - 0s 16ms/step\n",
            "/content/drive/MyDrive/TCC/Videos/Validação/Nao_Fumaca/Corte261.jpeg não é fumaça\n",
            "Corte230.jpeg\n",
            "1/1 [==============================] - 0s 15ms/step\n",
            "/content/drive/MyDrive/TCC/Videos/Validação/Nao_Fumaca/Corte230.jpeg não é fumaça\n",
            "Corte305.jpeg\n",
            "1/1 [==============================] - 0s 21ms/step\n",
            "/content/drive/MyDrive/TCC/Videos/Validação/Nao_Fumaca/Corte305.jpeg não é fumaça\n",
            "Corte217.jpeg\n",
            "1/1 [==============================] - 0s 19ms/step\n",
            "/content/drive/MyDrive/TCC/Videos/Validação/Nao_Fumaca/Corte217.jpeg não é fumaça\n",
            "Corte248.jpeg\n",
            "1/1 [==============================] - 0s 21ms/step\n",
            "/content/drive/MyDrive/TCC/Videos/Validação/Nao_Fumaca/Corte248.jpeg não é fumaça\n",
            "Corte311.jpeg\n",
            "1/1 [==============================] - 0s 22ms/step\n",
            "/content/drive/MyDrive/TCC/Videos/Validação/Nao_Fumaca/Corte311.jpeg não é fumaça\n",
            "Corte317.jpeg\n",
            "1/1 [==============================] - 0s 14ms/step\n",
            "/content/drive/MyDrive/TCC/Videos/Validação/Nao_Fumaca/Corte317.jpeg não é fumaça\n",
            "Corte330.jpeg\n",
            "1/1 [==============================] - 0s 16ms/step\n",
            "/content/drive/MyDrive/TCC/Videos/Validação/Nao_Fumaca/Corte330.jpeg não é fumaça\n",
            "Corte323.jpeg\n",
            "1/1 [==============================] - 0s 18ms/step\n",
            "/content/drive/MyDrive/TCC/Videos/Validação/Nao_Fumaca/Corte323.jpeg não é fumaça\n"
          ]
        }
      ],
      "source": [
        "diretorio = 1 # nao fumaca\n",
        "\n",
        "for i in os.listdir('/content/drive/MyDrive/TCC/Videos/Validação/Nao_Fumaca'):\n",
        "  print(i)\n",
        "\n",
        "  #   #path = os.path.join('/content/drive/MyDrive/TCC/Videos/Validação Inedito/Fumaca_internet',random.choice(fumaca))\n",
        "  # else:\n",
        "  path = os.path.join('/content/drive/MyDrive/TCC/Videos/Validação/Nao_Fumaca',i) # usa uma foto aleatoria do diretorio nao fumaca\n",
        "  #   #path = os.path.join('/content/drive/MyDrive/TCC/Videos/Validação Inedito/Nao_Fumaca_internet',random.choice(nao_fumaca))\n",
        "  img = load_img(path, target_size=(300, 300))\n",
        "  x = img_to_array(img)\n",
        "  x /= 255\n",
        "  x = np.expand_dims(x, axis=0)\n",
        "\n",
        "  images = np.vstack([x])\n",
        "  classes = model10.predict(images, batch_size=10)\n",
        "\n",
        "\n",
        "  if   classes[0] < 0.5 and diretorio == 0: # se a rede classificou certo fumaca:\n",
        "    positivo += 1\n",
        "  \n",
        "  elif classes[0] > 0.5 and diretorio == 1: # se a rede classificou certo como nao fumaca\n",
        "    negativo += 1\n",
        "\n",
        "  elif classes[0] > 0.5 and diretorio == 0: # se a rede classificou errado como fumaca:\n",
        "    falso_positivo += 1\n",
        "\n",
        "  elif classes[0] < 0.5 and diretorio == 1: # se a rede classificou errado como nao fumaca\n",
        "    falso_negativo += 1\n",
        "\n",
        "    \n",
        "  if classes[0]>0.5:\n",
        "    print(path + \" não é fumaça\")\n",
        "  else:\n",
        "    print(path + \" é fumaça \")  \n"
      ]
    },
    {
      "cell_type": "code",
      "source": [
        "print(positivo, negativo, falso_positivo, falso_negativo)"
      ],
      "metadata": {
        "colab": {
          "base_uri": "https://localhost:8080/"
        },
        "outputId": "2fdd9b8d-4600-4b86-f7eb-3be11ebed3fb",
        "id": "M5uNtFgGyvOJ"
      },
      "execution_count": null,
      "outputs": [
        {
          "output_type": "stream",
          "name": "stdout",
          "text": [
            "42 49 0 4\n"
          ]
        }
      ]
    },
    {
      "cell_type": "code",
      "source": [
        "with open(f'Teste de confiabilidade (banco de dados) ({n} testes) (modelo 10)', 'w+') as m:\n",
        "  m.write(f'Resultados do teste de validação:\\n')\n",
        "  m.write(f'positivos: {positivo}\\n')\n",
        "  m.write(f'negativos: {negativo}\\n')\n",
        "  m.write(f'falto positivo: {falso_positivo}\\n')\n",
        "  m.write(f'falso negativo: {falso_negativo}\\n')"
      ],
      "metadata": {
        "id": "3tvNlavoyvOJ"
      },
      "execution_count": null,
      "outputs": []
    },
    {
      "cell_type": "markdown",
      "source": [
        "###### Teste com as imagens da internet"
      ],
      "metadata": {
        "id": "-gRuFj7uyvOJ"
      }
    },
    {
      "cell_type": "code",
      "execution_count": null,
      "metadata": {
        "id": "iZhScFGpyvOJ"
      },
      "outputs": [],
      "source": [
        "positivo, negativo, falso_positivo, falso_negativo = 0,0,0,0"
      ]
    },
    {
      "cell_type": "code",
      "execution_count": null,
      "metadata": {
        "colab": {
          "base_uri": "https://localhost:8080/"
        },
        "id": "VPgcSzZ9yvOK",
        "outputId": "686e2407-ef3e-45c8-8f19-03acacf460ff"
      },
      "outputs": [
        {
          "output_type": "stream",
          "name": "stdout",
          "text": [
            "download (2).jpeg\n",
            "1/1 [==============================] - 0s 17ms/step\n",
            "/content/drive/MyDrive/TCC/Videos/Validação Inedito/Fumaca_internet/download (2).jpeg é fumaça \n",
            "images (11).jpeg\n",
            "1/1 [==============================] - 0s 15ms/step\n",
            "/content/drive/MyDrive/TCC/Videos/Validação Inedito/Fumaca_internet/images (11).jpeg é fumaça \n",
            "download (3).jpeg\n",
            "1/1 [==============================] - 0s 17ms/step\n",
            "/content/drive/MyDrive/TCC/Videos/Validação Inedito/Fumaca_internet/download (3).jpeg é fumaça \n",
            "download (4).jpeg\n",
            "1/1 [==============================] - 0s 23ms/step\n",
            "/content/drive/MyDrive/TCC/Videos/Validação Inedito/Fumaca_internet/download (4).jpeg é fumaça \n",
            "download (5).jpeg\n",
            "1/1 [==============================] - 0s 22ms/step\n",
            "/content/drive/MyDrive/TCC/Videos/Validação Inedito/Fumaca_internet/download (5).jpeg não é fumaça\n",
            "download (6).jpeg\n",
            "1/1 [==============================] - 0s 17ms/step\n",
            "/content/drive/MyDrive/TCC/Videos/Validação Inedito/Fumaca_internet/download (6).jpeg não é fumaça\n",
            "download (7).jpeg\n",
            "1/1 [==============================] - 0s 21ms/step\n",
            "/content/drive/MyDrive/TCC/Videos/Validação Inedito/Fumaca_internet/download (7).jpeg é fumaça \n",
            "download (8).jpeg\n",
            "1/1 [==============================] - 0s 22ms/step\n",
            "/content/drive/MyDrive/TCC/Videos/Validação Inedito/Fumaca_internet/download (8).jpeg é fumaça \n",
            "download (9).jpeg\n",
            "1/1 [==============================] - 0s 21ms/step\n",
            "/content/drive/MyDrive/TCC/Videos/Validação Inedito/Fumaca_internet/download (9).jpeg é fumaça \n",
            "images (12).jpeg\n",
            "1/1 [==============================] - 0s 15ms/step\n",
            "/content/drive/MyDrive/TCC/Videos/Validação Inedito/Fumaca_internet/images (12).jpeg é fumaça \n",
            "images (13).jpeg\n",
            "1/1 [==============================] - 0s 20ms/step\n",
            "/content/drive/MyDrive/TCC/Videos/Validação Inedito/Fumaca_internet/images (13).jpeg não é fumaça\n",
            "images (14).jpeg\n",
            "1/1 [==============================] - 0s 19ms/step\n",
            "/content/drive/MyDrive/TCC/Videos/Validação Inedito/Fumaca_internet/images (14).jpeg não é fumaça\n",
            "images (15).jpeg\n",
            "1/1 [==============================] - 0s 18ms/step\n",
            "/content/drive/MyDrive/TCC/Videos/Validação Inedito/Fumaca_internet/images (15).jpeg é fumaça \n",
            "images (16).jpeg\n",
            "1/1 [==============================] - 0s 15ms/step\n",
            "/content/drive/MyDrive/TCC/Videos/Validação Inedito/Fumaca_internet/images (16).jpeg é fumaça \n",
            "images (17).jpeg\n",
            "1/1 [==============================] - 0s 17ms/step\n",
            "/content/drive/MyDrive/TCC/Videos/Validação Inedito/Fumaca_internet/images (17).jpeg é fumaça \n",
            "images (18).jpeg\n",
            "1/1 [==============================] - 0s 14ms/step\n",
            "/content/drive/MyDrive/TCC/Videos/Validação Inedito/Fumaca_internet/images (18).jpeg é fumaça \n",
            "images (19).jpeg\n",
            "1/1 [==============================] - 0s 20ms/step\n",
            "/content/drive/MyDrive/TCC/Videos/Validação Inedito/Fumaca_internet/images (19).jpeg não é fumaça\n",
            "images (20).jpeg\n",
            "1/1 [==============================] - 0s 19ms/step\n",
            "/content/drive/MyDrive/TCC/Videos/Validação Inedito/Fumaca_internet/images (20).jpeg é fumaça \n",
            "images (21).jpeg\n",
            "1/1 [==============================] - 0s 27ms/step\n",
            "/content/drive/MyDrive/TCC/Videos/Validação Inedito/Fumaca_internet/images (21).jpeg não é fumaça\n",
            "images (22).jpeg\n",
            "1/1 [==============================] - 0s 21ms/step\n",
            "/content/drive/MyDrive/TCC/Videos/Validação Inedito/Fumaca_internet/images (22).jpeg não é fumaça\n",
            "images (23).jpeg\n",
            "1/1 [==============================] - 0s 20ms/step\n",
            "/content/drive/MyDrive/TCC/Videos/Validação Inedito/Fumaca_internet/images (23).jpeg não é fumaça\n",
            "images (24).jpeg\n",
            "1/1 [==============================] - 0s 17ms/step\n",
            "/content/drive/MyDrive/TCC/Videos/Validação Inedito/Fumaca_internet/images (24).jpeg é fumaça \n",
            "images (25).jpeg\n",
            "1/1 [==============================] - 0s 16ms/step\n",
            "/content/drive/MyDrive/TCC/Videos/Validação Inedito/Fumaca_internet/images (25).jpeg é fumaça \n",
            "images (26).jpeg\n",
            "1/1 [==============================] - 0s 17ms/step\n",
            "/content/drive/MyDrive/TCC/Videos/Validação Inedito/Fumaca_internet/images (26).jpeg não é fumaça\n",
            "images (27).jpeg\n",
            "1/1 [==============================] - 0s 16ms/step\n",
            "/content/drive/MyDrive/TCC/Videos/Validação Inedito/Fumaca_internet/images (27).jpeg é fumaça \n"
          ]
        }
      ],
      "source": [
        "diretorio = 0 #fumaca\n",
        "\n",
        "for i in os.listdir('/content/drive/MyDrive/TCC/Videos/Validação Inedito/Fumaca_internet'):\n",
        "  print(i)\n",
        "\n",
        "  path = os.path.join('/content/drive/MyDrive/TCC/Videos/Validação Inedito/Fumaca_internet',i)  # usa uma foto do diretorio fumaca\n",
        "  #   #path = os.path.join('/content/drive/MyDrive/TCC/Videos/Validação Inedito/Fumaca_internet',random.choice(fumaca))\n",
        "  # else:\n",
        "  #   path = os.path.join('/content/drive/MyDrive/TCC/Videos/Validação/Nao_Fumaca',i) # usa uma foto aleatoria do diretorio nao fumaca\n",
        "  #   #path = os.path.join('/content/drive/MyDrive/TCC/Videos/Validação Inedito/Nao_Fumaca_internet',random.choice(nao_fumaca))\n",
        "  img = load_img(path, target_size=(300, 300))\n",
        "  x = img_to_array(img)\n",
        "  x /= 255\n",
        "  x = np.expand_dims(x, axis=0)\n",
        "\n",
        "  images = np.vstack([x])\n",
        "  classes = model10.predict(images, batch_size=10)\n",
        "\n",
        "\n",
        "  if   classes[0] < 0.5 and diretorio == 0: # se a rede classificou certo fumaca:\n",
        "    positivo += 1\n",
        "  \n",
        "  elif classes[0] > 0.5 and diretorio == 1: # se a rede classificou certo como nao fumaca\n",
        "    negativo += 1\n",
        "\n",
        "  elif classes[0] > 0.5 and diretorio == 0: # se a rede classificou errado como fumaca:\n",
        "    falso_positivo += 1\n",
        "\n",
        "  elif classes[0] < 0.5 and diretorio == 1: # se a rede classificou errado como nao fumaca\n",
        "    falso_negativo += 1\n",
        "\n",
        "    \n",
        "  if classes[0]>0.5:\n",
        "    print(path + \" não é fumaça\")\n",
        "  else:\n",
        "    print(path + \" é fumaça \")  \n"
      ]
    },
    {
      "cell_type": "code",
      "execution_count": null,
      "metadata": {
        "colab": {
          "base_uri": "https://localhost:8080/"
        },
        "id": "-PQv7NM0yvOK",
        "outputId": "87c7802d-521d-4535-c940-944ea90ca0c4"
      },
      "outputs": [
        {
          "output_type": "stream",
          "name": "stdout",
          "text": [
            "download (2).jpeg\n",
            "1/1 [==============================] - 0s 18ms/step\n",
            "/content/drive/MyDrive/TCC/Videos/Validação Inedito/Nao_Fumaca_internet/download (2).jpeg é fumaça \n",
            "download (3).jpeg\n",
            "1/1 [==============================] - 0s 14ms/step\n",
            "/content/drive/MyDrive/TCC/Videos/Validação Inedito/Nao_Fumaca_internet/download (3).jpeg é fumaça \n",
            "download (4).jpeg\n",
            "1/1 [==============================] - 0s 16ms/step\n",
            "/content/drive/MyDrive/TCC/Videos/Validação Inedito/Nao_Fumaca_internet/download (4).jpeg é fumaça \n",
            "download (5).jpeg\n",
            "1/1 [==============================] - 0s 17ms/step\n",
            "/content/drive/MyDrive/TCC/Videos/Validação Inedito/Nao_Fumaca_internet/download (5).jpeg é fumaça \n",
            "download (6).jpeg\n",
            "1/1 [==============================] - 0s 17ms/step\n",
            "/content/drive/MyDrive/TCC/Videos/Validação Inedito/Nao_Fumaca_internet/download (6).jpeg é fumaça \n",
            "images (11).jpeg\n",
            "1/1 [==============================] - 0s 16ms/step\n",
            "/content/drive/MyDrive/TCC/Videos/Validação Inedito/Nao_Fumaca_internet/images (11).jpeg é fumaça \n",
            "images (12).jpeg\n",
            "1/1 [==============================] - 0s 16ms/step\n",
            "/content/drive/MyDrive/TCC/Videos/Validação Inedito/Nao_Fumaca_internet/images (12).jpeg é fumaça \n",
            "images (13).jpeg\n",
            "1/1 [==============================] - 0s 16ms/step\n",
            "/content/drive/MyDrive/TCC/Videos/Validação Inedito/Nao_Fumaca_internet/images (13).jpeg é fumaça \n",
            "images (14).jpeg\n",
            "1/1 [==============================] - 0s 16ms/step\n",
            "/content/drive/MyDrive/TCC/Videos/Validação Inedito/Nao_Fumaca_internet/images (14).jpeg é fumaça \n",
            "images (15).jpeg\n",
            "1/1 [==============================] - 0s 18ms/step\n",
            "/content/drive/MyDrive/TCC/Videos/Validação Inedito/Nao_Fumaca_internet/images (15).jpeg é fumaça \n",
            "images (18).jpeg\n",
            "1/1 [==============================] - 0s 19ms/step\n",
            "/content/drive/MyDrive/TCC/Videos/Validação Inedito/Nao_Fumaca_internet/images (18).jpeg é fumaça \n",
            "images (19).jpeg\n",
            "1/1 [==============================] - 0s 19ms/step\n",
            "/content/drive/MyDrive/TCC/Videos/Validação Inedito/Nao_Fumaca_internet/images (19).jpeg é fumaça \n",
            "images (20).jpeg\n",
            "1/1 [==============================] - 0s 21ms/step\n",
            "/content/drive/MyDrive/TCC/Videos/Validação Inedito/Nao_Fumaca_internet/images (20).jpeg é fumaça \n",
            "images (21).jpeg\n",
            "1/1 [==============================] - 0s 17ms/step\n",
            "/content/drive/MyDrive/TCC/Videos/Validação Inedito/Nao_Fumaca_internet/images (21).jpeg é fumaça \n",
            "images (22).jpeg\n",
            "1/1 [==============================] - 0s 14ms/step\n",
            "/content/drive/MyDrive/TCC/Videos/Validação Inedito/Nao_Fumaca_internet/images (22).jpeg é fumaça \n",
            "images (24).jpeg\n",
            "1/1 [==============================] - 0s 15ms/step\n",
            "/content/drive/MyDrive/TCC/Videos/Validação Inedito/Nao_Fumaca_internet/images (24).jpeg é fumaça \n",
            "images (26).jpeg\n",
            "1/1 [==============================] - 0s 20ms/step\n",
            "/content/drive/MyDrive/TCC/Videos/Validação Inedito/Nao_Fumaca_internet/images (26).jpeg é fumaça \n",
            "images (28).jpeg\n",
            "1/1 [==============================] - 0s 21ms/step\n",
            "/content/drive/MyDrive/TCC/Videos/Validação Inedito/Nao_Fumaca_internet/images (28).jpeg é fumaça \n",
            "images (29).jpeg\n",
            "1/1 [==============================] - 0s 16ms/step\n",
            "/content/drive/MyDrive/TCC/Videos/Validação Inedito/Nao_Fumaca_internet/images (29).jpeg é fumaça \n",
            "aaaa.png\n",
            "1/1 [==============================] - 0s 15ms/step\n",
            "/content/drive/MyDrive/TCC/Videos/Validação Inedito/Nao_Fumaca_internet/aaaa.png é fumaça \n",
            "images (17).png\n",
            "1/1 [==============================] - 0s 21ms/step\n",
            "/content/drive/MyDrive/TCC/Videos/Validação Inedito/Nao_Fumaca_internet/images (17).png é fumaça \n",
            "images (23).png\n",
            "1/1 [==============================] - 0s 42ms/step\n",
            "/content/drive/MyDrive/TCC/Videos/Validação Inedito/Nao_Fumaca_internet/images (23).png é fumaça \n",
            "images (25).png\n",
            "1/1 [==============================] - 0s 33ms/step\n",
            "/content/drive/MyDrive/TCC/Videos/Validação Inedito/Nao_Fumaca_internet/images (25).png é fumaça \n",
            "Images (27).png\n",
            "1/1 [==============================] - 0s 35ms/step\n",
            "/content/drive/MyDrive/TCC/Videos/Validação Inedito/Nao_Fumaca_internet/Images (27).png é fumaça \n",
            "images (16).png\n",
            "1/1 [==============================] - 0s 19ms/step\n",
            "/content/drive/MyDrive/TCC/Videos/Validação Inedito/Nao_Fumaca_internet/images (16).png é fumaça \n"
          ]
        }
      ],
      "source": [
        "diretorio = 1 # nao fumaca\n",
        "\n",
        "for i in os.listdir('/content/drive/MyDrive/TCC/Videos/Validação Inedito/Nao_Fumaca_internet'):\n",
        "  print(i)\n",
        "\n",
        "  path = os.path.join('/content/drive/MyDrive/TCC/Videos/Validação Inedito/Nao_Fumaca_internet',i) # usa uma foto aleatoria do diretorio nao fumaca\n",
        "\n",
        "  img = load_img(path, target_size=(300, 300))\n",
        "  x = img_to_array(img)\n",
        "  x /= 255\n",
        "  x = np.expand_dims(x, axis=0)\n",
        "\n",
        "  images = np.vstack([x])\n",
        "  classes = model10.predict(images, batch_size=10)\n",
        "\n",
        "\n",
        "  if   classes[0] < 0.5 and diretorio == 0: # se a rede classificou certo fumaca:\n",
        "    positivo += 1\n",
        "  \n",
        "  elif classes[0] > 0.5 and diretorio == 1: # se a rede classificou certo como nao fumaca\n",
        "    negativo += 1\n",
        "\n",
        "  elif classes[0] > 0.5 and diretorio == 0: # se a rede classificou errado como fumaca:\n",
        "    falso_positivo += 1\n",
        "\n",
        "  elif classes[0] < 0.5 and diretorio == 1: # se a rede classificou errado como nao fumaca\n",
        "    falso_negativo += 1\n",
        "\n",
        "    \n",
        "  if classes[0]>0.5:\n",
        "    print(path + \" não é fumaça\")\n",
        "  else:\n",
        "    print(path + \" é fumaça \")  \n"
      ]
    },
    {
      "cell_type": "code",
      "source": [
        "print(positivo, negativo, falso_positivo, falso_negativo)"
      ],
      "metadata": {
        "colab": {
          "base_uri": "https://localhost:8080/"
        },
        "outputId": "b421ca83-35b0-4e90-f256-4982d3e7c1cb",
        "id": "eRKWKYYmyvOK"
      },
      "execution_count": null,
      "outputs": [
        {
          "output_type": "stream",
          "name": "stdout",
          "text": [
            "16 0 9 25\n"
          ]
        }
      ]
    },
    {
      "cell_type": "code",
      "execution_count": null,
      "metadata": {
        "id": "yUblbqMCyvOK"
      },
      "outputs": [],
      "source": [
        "with open(f'Teste de Validação inedito (internet) ({n} testes) (modelo 10)', 'w+') as m:\n",
        "  m.write(f'Resultados do teste de validação:\\n')\n",
        "  m.write(f'positivos: {positivo}\\n')\n",
        "  m.write(f'negativos: {negativo}\\n')\n",
        "  m.write(f'falto positivo: {falso_positivo}\\n')\n",
        "  m.write(f'falso negativo: {falso_negativo}\\n')"
      ]
    },
    {
      "cell_type": "markdown",
      "source": [
        "###### Teste com coleta aleatória das imagens"
      ],
      "metadata": {
        "id": "2Ver4xkFyvOK"
      }
    },
    {
      "cell_type": "code",
      "execution_count": null,
      "metadata": {
        "id": "oNGF8FsYyvOK"
      },
      "outputs": [],
      "source": [
        "dir = [0,1]"
      ]
    },
    {
      "cell_type": "code",
      "execution_count": null,
      "metadata": {
        "id": "SRshZj4TyvOK"
      },
      "outputs": [],
      "source": [
        "# validação com imagens do banco de dados\n",
        "fumaca = os.listdir('/content/drive/MyDrive/TCC/Videos/Validação/Fumaca')\n",
        "nao_fumaca = os.listdir('/content/drive/MyDrive/TCC/Videos/Validação/Nao_Fumaca')"
      ]
    },
    {
      "cell_type": "code",
      "execution_count": null,
      "metadata": {
        "id": "nc1yCP6cyvOK"
      },
      "outputs": [],
      "source": [
        "# # validação com imagens da internet\n",
        "# fumaca = os.listdir('/content/drive/MyDrive/TCC/Videos/Validação Inedito/Fumaca_internet')\n",
        "# nao_fumaca = os.listdir('/content/drive/MyDrive/TCC/Videos/Validação Inedito/Nao_Fumaca_internet')"
      ]
    },
    {
      "cell_type": "code",
      "execution_count": null,
      "metadata": {
        "id": "DNHkmg1zyvOL"
      },
      "outputs": [],
      "source": [
        "positivo, negativo, falso_positivo, falso_negativo = 0,0,0,0"
      ]
    },
    {
      "cell_type": "code",
      "execution_count": null,
      "metadata": {
        "id": "KaqZo7mZyvOL"
      },
      "outputs": [],
      "source": [
        "for i in range(n):\n",
        "  n_aleatorio = random.choice(dir)  # escolhe aleatoriamente  fumaca ou nao fumaca\n",
        "\n",
        "  if n_aleatorio == 0:\n",
        "    path = os.path.join('/content/drive/MyDrive/TCC/Videos/Validação/Fumaca',random.choice(fumaca))  # usa uma foto aleatoria do diretorio fumaca\n",
        "    #path = os.path.join('/content/drive/MyDrive/TCC/Videos/Validação Inedito/Fumaca_internet',random.choice(fumaca))\n",
        "  else:\n",
        "    path = os.path.join('/content/drive/MyDrive/TCC/Videos/Validação/Nao_Fumaca',random.choice(nao_fumaca)) # usa uma foto aleatoria do diretorio nao fumaca\n",
        "    #path = os.path.join('/content/drive/MyDrive/TCC/Videos/Validação Inedito/Nao_Fumaca_internet',random.choice(nao_fumaca))\n",
        "  img = load_img(path, target_size=(300, 300))\n",
        "  x = img_to_array(img)\n",
        "  x /= 255\n",
        "  x = np.expand_dims(x, axis=0)\n",
        "\n",
        "  images = np.vstack([x])\n",
        "  classes = model10.predict(images, batch_size=10)\n",
        "\n",
        "\n",
        "  if   classes[0] < 0.5 and n_aleatorio == 0: # se a rede classificou certo fumaca:\n",
        "    positivo += 1\n",
        "  \n",
        "  elif classes[0] > 0.5 and n_aleatorio == 1: # se a rede classificou certo como nao fumaca\n",
        "    negativo += 1\n",
        "\n",
        "  elif classes[0] > 0.5 and n_aleatorio == 0: # se a rede classificou errado como fumaca:\n",
        "    falso_positivo += 1\n",
        "\n",
        "  elif classes[0] < 0.5 and n_aleatorio == 1: # se a rede classificou errado como nao fumaca\n",
        "    falso_negativo += 1\n",
        "\n",
        "    \n",
        "  if classes[0]>0.5:\n",
        "    print(path + \" não é fumaça\")\n",
        "  else:\n",
        "    print(path + \" é fumaça \")  \n"
      ]
    },
    {
      "cell_type": "code",
      "execution_count": null,
      "metadata": {
        "id": "NpEdd4iCyvOL"
      },
      "outputs": [],
      "source": [
        "with open('Teste de Validação  (banco de dados) (1000 testes aleatorios) (modelo 9)', 'w+') as m:\n",
        "  m.write(f'Resultados do teste de validação:\\n')\n",
        "  m.write(f'positivos: {positivo}\\n')\n",
        "  m.write(f'negativos: {negativo}\\n')\n",
        "  m.write(f'falto positivo: {falso_positivo}\\n')\n",
        "  m.write(f'falso negativo: {falso_negativo}\\n')"
      ]
    },
    {
      "cell_type": "code",
      "execution_count": null,
      "metadata": {
        "id": "PW7bFRj0yvOL"
      },
      "outputs": [],
      "source": [
        "# # validação com imagens da internet\n",
        "# fumaca = os.listdir('/content/drive/MyDrive/TCC/Videos/Validação Inedito/Fumaca_internet')\n",
        "# nao_fumaca = os.listdir('/content/drive/MyDrive/TCC/Videos/Validação Inedito/Nao_Fumaca_internet')"
      ]
    },
    {
      "cell_type": "markdown",
      "metadata": {
        "id": "ttxRAF7EjiN3"
      },
      "source": [
        "##### Modelo 10 (antigo)"
      ]
    },
    {
      "cell_type": "code",
      "execution_count": null,
      "metadata": {
        "id": "TnOGX5jOjiN3"
      },
      "outputs": [],
      "source": [
        "#%cd '/content/drive/MyDrive/TCC/Videos/Validação'"
      ]
    },
    {
      "cell_type": "code",
      "execution_count": null,
      "metadata": {
        "id": "QjG3c_MpjiN4"
      },
      "outputs": [],
      "source": [
        "import os\n",
        "import numpy as np\n",
        "from tensorflow.keras.utils import load_img, img_to_array\n",
        "import random "
      ]
    },
    {
      "cell_type": "code",
      "execution_count": null,
      "metadata": {
        "id": "LN3VLbTbTY1v"
      },
      "outputs": [],
      "source": [
        "# validação com imagens do banco de dados\n",
        "fumaca = os.listdir('/content/drive/MyDrive/TCC/Videos/Validação/Fumaca')\n",
        "nao_fumaca = os.listdir('/content/drive/MyDrive/TCC/Videos/Validação/Nao_Fumaca')"
      ]
    },
    {
      "cell_type": "code",
      "execution_count": null,
      "metadata": {
        "id": "rFaPA1tdTdbz"
      },
      "outputs": [],
      "source": [
        "# # validação com imagens da internet\n",
        "# fumaca = os.listdir('/content/drive/MyDrive/TCC/Videos/Validação Inedito/Fumaca_internet')\n",
        "# nao_fumaca = os.listdir('/content/drive/MyDrive/TCC/Videos/Validação Inedito/Nao_Fumaca_internet')"
      ]
    },
    {
      "cell_type": "code",
      "execution_count": null,
      "metadata": {
        "id": "-Z9mOBVBjiN4"
      },
      "outputs": [],
      "source": [
        "dir = [0,1]"
      ]
    },
    {
      "cell_type": "code",
      "execution_count": null,
      "metadata": {
        "id": "vxJCsNWHjiN5"
      },
      "outputs": [],
      "source": [
        "positivo, negativo, falso_positivo, falso_negativo = 0,0,0,0"
      ]
    },
    {
      "cell_type": "code",
      "execution_count": null,
      "metadata": {
        "id": "gBN0i-hsjiN5"
      },
      "outputs": [],
      "source": [
        "for i in range(n):\n",
        "  n_aleatorio = random.choice(dir)  # escolhe aleatoriamente  fumaca ou nao fumaca\n",
        "\n",
        "  if n_aleatorio == 0:\n",
        "    path = os.path.join('/content/drive/MyDrive/TCC/Videos/Validação/Fumaca',random.choice(fumaca))  # usa uma foto aleatoria do diretorio fumaca\n",
        "    #path = os.path.join('/content/drive/MyDrive/TCC/Videos/Validação Inedito/Fumaca_internet',random.choice(fumaca))\n",
        "  else:\n",
        "    path = os.path.join('/content/drive/MyDrive/TCC/Videos/Validação/Nao_Fumaca',random.choice(nao_fumaca)) # usa uma foto aleatoria do diretorio nao fumaca\n",
        "    #path = os.path.join('/content/drive/MyDrive/TCC/Videos/Validação Inedito/Nao_Fumaca_internet',random.choice(nao_fumaca))\n",
        "  img = load_img(path, target_size=(300, 300))\n",
        "  x = img_to_array(img)\n",
        "  x /= 255\n",
        "  x = np.expand_dims(x, axis=0)\n",
        "\n",
        "  images = np.vstack([x])\n",
        "  classes = model10.predict(images, batch_size=10)\n",
        "\n",
        "\n",
        "  if   classes[0] < 0.5 and n_aleatorio == 0: # se a rede classificou certo fumaca:\n",
        "    positivo += 1\n",
        "  \n",
        "  elif classes[0] > 0.5 and n_aleatorio == 1: # se a rede classificou certo como nao fumaca\n",
        "    negativo += 1\n",
        "\n",
        "  elif classes[0] > 0.5 and n_aleatorio == 0: # se a rede classificou errado como fumaca:\n",
        "    falso_positivo += 1\n",
        "\n",
        "  elif classes[0] < 0.5 and n_aleatorio == 1: # se a rede classificou errado como nao fumaca\n",
        "    falso_negativo += 1\n",
        "\n",
        "    \n",
        "  if classes[0]>0.5:\n",
        "    print(path + \" não é fumaça\")\n",
        "  else:\n",
        "    print(path + \" é fumaça \")  \n"
      ]
    },
    {
      "cell_type": "code",
      "execution_count": null,
      "metadata": {
        "id": "YeIbYryijiN5",
        "colab": {
          "base_uri": "https://localhost:8080/"
        },
        "outputId": "9cee4e60-5a60-4667-a7c9-d331913a6f28"
      },
      "outputs": [
        {
          "output_type": "stream",
          "name": "stdout",
          "text": [
            "400 540 60 0\n"
          ]
        }
      ],
      "source": [
        "print(positivo, negativo, falso_positivo, falso_negativo)"
      ]
    },
    {
      "cell_type": "code",
      "execution_count": null,
      "metadata": {
        "id": "LxoarlUWjiN5"
      },
      "outputs": [],
      "source": [
        "with open('Teste de Validação inedito 4 (banco de dados) (1000 testes) (modelo 10)', 'w+') as m:\n",
        "  m.write(f'Resultados do teste de validação:\\n')\n",
        "  m.write(f'positivos: {positivo}\\n')\n",
        "  m.write(f'negativos: {negativo}\\n')\n",
        "  m.write(f'falto positivo: {falso_positivo}\\n')\n",
        "  m.write(f'falso negativo: {falso_negativo}\\n')"
      ]
    },
    {
      "cell_type": "code",
      "execution_count": null,
      "metadata": {
        "id": "pJWxJt7-jiN5",
        "colab": {
          "base_uri": "https://localhost:8080/"
        },
        "outputId": "37ebdfa1-d513-4b50-b6ed-aa0de186a8b0"
      },
      "outputs": [
        {
          "output_type": "stream",
          "name": "stdout",
          "text": [
            "/content/drive/MyDrive/TCC/Videos\n"
          ]
        }
      ],
      "source": [
        "!pwd"
      ]
    },
    {
      "cell_type": "code",
      "execution_count": null,
      "metadata": {
        "id": "mUltdE8FjiN5"
      },
      "outputs": [],
      "source": []
    }
  ],
  "metadata": {
    "accelerator": "GPU",
    "colab": {
      "collapsed_sections": [
        "2tCaEW5Mj8tE"
      ],
      "provenance": [],
      "authorship_tag": "ABX9TyPFoSwfNsFEzVESUYMAiZgE",
      "include_colab_link": true
    },
    "gpuClass": "standard",
    "kernelspec": {
      "display_name": "Python 3",
      "name": "python3"
    },
    "language_info": {
      "name": "python"
    }
  },
  "nbformat": 4,
  "nbformat_minor": 0
}