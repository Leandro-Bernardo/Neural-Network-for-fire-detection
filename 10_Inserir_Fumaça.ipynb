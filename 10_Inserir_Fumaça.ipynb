{
  "nbformat": 4,
  "nbformat_minor": 0,
  "metadata": {
    "colab": {
      "provenance": [],
      "collapsed_sections": [
        "j2NdcF18IN0W",
        "FxrCdsGp64ue"
      ],
      "mount_file_id": "1d7YCclF21SLMbWjxO8Tf2-WCX5K_2-P7",
      "authorship_tag": "ABX9TyP/2RfLvDrEzFGRwoFOqEUs",
      "include_colab_link": true
    },
    "kernelspec": {
      "name": "python3",
      "display_name": "Python 3"
    },
    "language_info": {
      "name": "python"
    }
  },
  "cells": [
    {
      "cell_type": "markdown",
      "metadata": {
        "id": "view-in-github",
        "colab_type": "text"
      },
      "source": [
        "<a href=\"https://colab.research.google.com/github/Leandro-Bernardo/Neural-Network-for-fire-detection/blob/main/10_Inserir_Fuma%C3%A7a.ipynb\" target=\"_parent\"><img src=\"https://colab.research.google.com/assets/colab-badge.svg\" alt=\"Open In Colab\"/></a>"
      ]
    },
    {
      "cell_type": "code",
      "source": [
        "# variaveis que precisam ser mudadas para cada imagem :\n",
        "\n",
        "# raio dos circulos de fumaca \n",
        "# raio crescente do proximo circulo de fumaça\n",
        "# escala de cores "
      ],
      "metadata": {
        "id": "8f_gQcC3cl01"
      },
      "execution_count": null,
      "outputs": []
    },
    {
      "cell_type": "code",
      "source": [
        "import os\n",
        "import cv2\n",
        "import shutil\n",
        "import matplotlib.pyplot as plt\n",
        "import random\n",
        "import math as mt\n",
        "from math import cos\n",
        "\n",
        "from google.colab.patches import cv2_imshow"
      ],
      "metadata": {
        "id": "k9nefhsaap0x"
      },
      "execution_count": null,
      "outputs": []
    },
    {
      "cell_type": "code",
      "execution_count": null,
      "metadata": {
        "id": "paZjKhwXSqbb"
      },
      "outputs": [],
      "source": [
        "from google.colab import drive\n"
      ]
    },
    {
      "cell_type": "code",
      "source": [
        "drive.mount('/content/drive/')"
      ],
      "metadata": {
        "colab": {
          "base_uri": "https://localhost:8080/"
        },
        "id": "SAJ2L-5dV-xT",
        "outputId": "57c2ec0c-e087-4278-faae-a6e29f9de535"
      },
      "execution_count": null,
      "outputs": [
        {
          "output_type": "stream",
          "name": "stdout",
          "text": [
            "Mounted at /content/drive/\n"
          ]
        }
      ]
    },
    {
      "cell_type": "code",
      "source": [],
      "metadata": {
        "id": "Nqflhh_YWLRC"
      },
      "execution_count": null,
      "outputs": []
    },
    {
      "cell_type": "markdown",
      "source": [
        "#### Imagens"
      ],
      "metadata": {
        "id": "fhFLKQRIanQ_"
      }
    },
    {
      "cell_type": "markdown",
      "source": [
        "##### Importa e plota as imagens"
      ],
      "metadata": {
        "id": "HgYTo5VDt1un"
      }
    },
    {
      "cell_type": "code",
      "source": [
        "path = '/content/drive/MyDrive/Artigos Científicos/Rede Neural/Treinamento_N'"
      ],
      "metadata": {
        "id": "KFeMyXQEarIZ"
      },
      "execution_count": null,
      "outputs": []
    },
    {
      "cell_type": "code",
      "source": [
        "list_imagens = os.listdir(os.path.join(path,'Nao_Fumaca_Original'))  # lista as imagens contidas no diretório\n",
        "list_imagens"
      ],
      "metadata": {
        "colab": {
          "base_uri": "https://localhost:8080/"
        },
        "id": "iwbiG1uShRfL",
        "outputId": "75bf25a0-9c89-4ee1-c81c-a42bafbd99a1"
      },
      "execution_count": null,
      "outputs": [
        {
          "output_type": "execute_result",
          "data": {
            "text/plain": [
              "['Corte3.jpeg',\n",
              " 'Corte47.jpeg',\n",
              " 'Corte139.jpeg',\n",
              " 'Corte145.jpeg',\n",
              " 'Corte154.jpeg',\n",
              " 'Corte179.jpeg']"
            ]
          },
          "metadata": {},
          "execution_count": 11
        }
      ]
    },
    {
      "cell_type": "code",
      "source": [
        "# from IPython.display import Image\n",
        "# Image(f'{path}/Nao_Fumaca/{imagens[0]}')"
      ],
      "metadata": {
        "id": "g-cEAOD16iMY"
      },
      "execution_count": null,
      "outputs": []
    },
    {
      "cell_type": "code",
      "source": [
        "imagens = [cv2.imread(f'{path}/Nao_Fumaca/{i}') for i in list_imagens] #cv2.imread() retorna um array -> compreensão de lista para fazer upload de todas as imagens \n"
      ],
      "metadata": {
        "id": "GBV5sYiW62DS"
      },
      "execution_count": null,
      "outputs": []
    },
    {
      "cell_type": "code",
      "source": [
        "imagens[:]"
      ],
      "metadata": {
        "id": "8SAnHoJXvk54",
        "colab": {
          "base_uri": "https://localhost:8080/"
        },
        "outputId": "5053db88-ea34-435f-bcbe-cb593c671644"
      },
      "execution_count": null,
      "outputs": [
        {
          "output_type": "execute_result",
          "data": {
            "text/plain": [
              "[array([[[171, 177, 146],\n",
              "         [173, 179, 148],\n",
              "         [175, 181, 150],\n",
              "         ...,\n",
              "         [185, 190, 163],\n",
              "         [185, 190, 163],\n",
              "         [182, 187, 160]],\n",
              " \n",
              "        [[176, 181, 152],\n",
              "         [176, 182, 151],\n",
              "         [175, 180, 151],\n",
              "         ...,\n",
              "         [182, 187, 160],\n",
              "         [180, 184, 159],\n",
              "         [176, 181, 154]],\n",
              " \n",
              "        [[175, 180, 153],\n",
              "         [173, 178, 149],\n",
              "         [170, 175, 148],\n",
              "         ...,\n",
              "         [192, 196, 171],\n",
              "         [186, 189, 167],\n",
              "         [177, 181, 156]],\n",
              " \n",
              "        ...,\n",
              " \n",
              "        [[ 93, 102,  99],\n",
              "         [ 91, 100,  97],\n",
              "         [ 82,  93,  90],\n",
              "         ...,\n",
              "         [ 93,  98,  96],\n",
              "         [ 92,  97,  95],\n",
              "         [ 91,  96,  94]],\n",
              " \n",
              "        [[113, 122, 119],\n",
              "         [106, 115, 112],\n",
              "         [ 93, 102,  99],\n",
              "         ...,\n",
              "         [102, 107, 105],\n",
              "         [100, 105, 103],\n",
              "         [ 97, 102, 100]],\n",
              " \n",
              "        [[117, 126, 123],\n",
              "         [110, 119, 116],\n",
              "         [ 95, 104, 101],\n",
              "         ...,\n",
              "         [106, 111, 109],\n",
              "         [101, 106, 104],\n",
              "         [ 96, 101,  99]]], dtype=uint8), array([[[179, 180, 154],\n",
              "         [178, 179, 153],\n",
              "         [176, 177, 151],\n",
              "         ...,\n",
              "         [185, 189, 164],\n",
              "         [184, 188, 163],\n",
              "         [181, 185, 160]],\n",
              " \n",
              "        [[177, 177, 153],\n",
              "         [179, 180, 154],\n",
              "         [181, 181, 157],\n",
              "         ...,\n",
              "         [183, 187, 162],\n",
              "         [183, 186, 164],\n",
              "         [181, 185, 160]],\n",
              " \n",
              "        [[175, 174, 153],\n",
              "         [175, 175, 151],\n",
              "         [176, 175, 154],\n",
              "         ...,\n",
              "         [188, 191, 169],\n",
              "         [186, 188, 168],\n",
              "         [179, 182, 160]],\n",
              " \n",
              "        ...,\n",
              " \n",
              "        [[103, 116, 114],\n",
              "         [ 96, 110, 106],\n",
              "         [ 85,  98,  96],\n",
              "         ...,\n",
              "         [ 93, 101,  94],\n",
              "         [ 92,  99,  94],\n",
              "         [ 90,  98,  91]],\n",
              " \n",
              "        [[111, 121, 121],\n",
              "         [102, 113, 111],\n",
              "         [ 89,  99,  99],\n",
              "         ...,\n",
              "         [ 98, 108, 102],\n",
              "         [ 95, 104, 101],\n",
              "         [ 91, 101,  95]],\n",
              " \n",
              "        [[112, 122, 122],\n",
              "         [102, 112, 112],\n",
              "         [ 89,  99,  99],\n",
              "         ...,\n",
              "         [102, 111, 108],\n",
              "         [ 99, 108, 105],\n",
              "         [ 93, 102,  99]]], dtype=uint8), array([[[15, 17, 17],\n",
              "         [ 2,  0,  0],\n",
              "         [13,  0,  2],\n",
              "         ...,\n",
              "         [15, 18, 23],\n",
              "         [ 0,  1,  5],\n",
              "         [ 0,  0,  3]],\n",
              " \n",
              "        [[11, 13, 13],\n",
              "         [16, 14, 14],\n",
              "         [26, 12, 16],\n",
              "         ...,\n",
              "         [ 5, 10, 13],\n",
              "         [ 6, 11, 12],\n",
              "         [ 9, 14, 15]],\n",
              " \n",
              "        [[ 2,  7,  5],\n",
              "         [14, 12, 12],\n",
              "         [22, 11, 14],\n",
              "         ...,\n",
              "         [ 0,  5,  3],\n",
              "         [ 0, 11,  9],\n",
              "         [ 5, 13, 12]],\n",
              " \n",
              "        ...,\n",
              " \n",
              "        [[13, 14, 12],\n",
              "         [16, 17, 13],\n",
              "         [10, 11,  7],\n",
              "         ...,\n",
              "         [14, 11,  7],\n",
              "         [23, 20, 15],\n",
              "         [21, 19, 11]],\n",
              " \n",
              "        [[16, 10, 11],\n",
              "         [22, 16, 17],\n",
              "         [21, 13, 14],\n",
              "         ...,\n",
              "         [23, 15,  8],\n",
              "         [19, 16,  8],\n",
              "         [21, 19,  9]],\n",
              " \n",
              "        [[16,  7, 10],\n",
              "         [24, 15, 18],\n",
              "         [27, 14, 16],\n",
              "         ...,\n",
              "         [32, 23, 14],\n",
              "         [19, 14,  5],\n",
              "         [22, 20, 10]]], dtype=uint8), array([[[12, 24,  6],\n",
              "         [ 1,  8,  0],\n",
              "         [ 5,  2,  0],\n",
              "         ...,\n",
              "         [19, 15, 14],\n",
              "         [ 4,  3, 13],\n",
              "         [ 0,  0, 12]],\n",
              " \n",
              "        [[ 8, 18,  2],\n",
              "         [11, 18,  5],\n",
              "         [21, 18, 13],\n",
              "         ...,\n",
              "         [22, 17, 14],\n",
              "         [13, 10, 19],\n",
              "         [12, 12, 26]],\n",
              " \n",
              "        [[ 4,  6,  0],\n",
              "         [14, 15,  5],\n",
              "         [21, 18, 13],\n",
              "         ...,\n",
              "         [23, 12,  8],\n",
              "         [16,  8, 15],\n",
              "         [21, 14, 27]],\n",
              " \n",
              "        ...,\n",
              " \n",
              "        [[19, 21,  9],\n",
              "         [18, 20,  8],\n",
              "         [15, 19,  7],\n",
              "         ...,\n",
              "         [16, 15, 17],\n",
              "         [15, 14, 16],\n",
              "         [16, 15, 17]],\n",
              " \n",
              "        [[23, 19, 14],\n",
              "         [21, 17, 12],\n",
              "         [19, 17,  9],\n",
              "         ...,\n",
              "         [18, 19, 15],\n",
              "         [16, 17, 13],\n",
              "         [16, 20, 15]],\n",
              " \n",
              "        [[25, 18, 15],\n",
              "         [22, 17, 14],\n",
              "         [22, 18, 13],\n",
              "         ...,\n",
              "         [18, 20, 14],\n",
              "         [15, 20, 11],\n",
              "         [17, 22, 13]]], dtype=uint8), None, None]"
            ]
          },
          "metadata": {},
          "execution_count": 14
        }
      ]
    },
    {
      "cell_type": "code",
      "source": [
        "i = len(imagens)\n",
        "i"
      ],
      "metadata": {
        "colab": {
          "base_uri": "https://localhost:8080/"
        },
        "id": "73Kc0aj-eynZ",
        "outputId": "1e919782-b20e-45da-b650-fc2346c44524"
      },
      "execution_count": null,
      "outputs": [
        {
          "output_type": "execute_result",
          "data": {
            "text/plain": [
              "6"
            ]
          },
          "metadata": {},
          "execution_count": 15
        }
      ]
    },
    {
      "cell_type": "code",
      "source": [
        "coluna = 2\n",
        "linha = int(i/2) if i%2 == 0 else int((i+1)/2)\n",
        "linha,coluna   "
      ],
      "metadata": {
        "colab": {
          "base_uri": "https://localhost:8080/"
        },
        "id": "HJ4_nEgFex02",
        "outputId": "e082c560-7a40-453f-922c-6a2dbdc78789"
      },
      "execution_count": null,
      "outputs": [
        {
          "output_type": "execute_result",
          "data": {
            "text/plain": [
              "(3, 2)"
            ]
          },
          "metadata": {},
          "execution_count": 16
        }
      ]
    },
    {
      "cell_type": "code",
      "source": [
        "k = 0\n",
        "\n",
        "f, coords = plt.subplots(linha,coluna)  \n",
        "for i in range(linha):\n",
        "  for j in range(coluna):\n",
        "    coords[i,j].imshow(imagens[k])\n",
        "\n",
        "    k += 1"
      ],
      "metadata": {
        "id": "YAymiwXprnNT"
      },
      "execution_count": null,
      "outputs": []
    },
    {
      "cell_type": "code",
      "source": [],
      "metadata": {
        "id": "KmYvQUFDvJeH"
      },
      "execution_count": null,
      "outputs": []
    },
    {
      "cell_type": "markdown",
      "source": [
        "##### Define a imagem a ser processada"
      ],
      "metadata": {
        "id": "oc-k7bHBt75B"
      }
    },
    {
      "cell_type": "code",
      "source": [
        "# reseta as imagens para o padrão (caso tenham sido editadas antes)\n",
        "imagens = [cv2.imread(f'{path}/Nao_Fumaca/{i}') for i in list_imagens]"
      ],
      "metadata": {
        "id": "ta3ujGJEz10f"
      },
      "execution_count": null,
      "outputs": []
    },
    {
      "cell_type": "code",
      "source": [
        "len(imagens)"
      ],
      "metadata": {
        "id": "u1KuvLriF7zU",
        "colab": {
          "base_uri": "https://localhost:8080/"
        },
        "outputId": "16e2ee02-8319-4f54-caff-147d695350c7"
      },
      "execution_count": null,
      "outputs": [
        {
          "output_type": "execute_result",
          "data": {
            "text/plain": [
              "6"
            ]
          },
          "metadata": {},
          "execution_count": 14
        }
      ]
    },
    {
      "cell_type": "code",
      "source": [
        "i = int(input(f'Qual imagem a ser editada? (0 à {len(imagens)-1})  '))"
      ],
      "metadata": {
        "id": "CHRL5wXA3Q8Y",
        "colab": {
          "base_uri": "https://localhost:8080/"
        },
        "outputId": "c07cf257-92d6-4201-c74a-a198bf35d4c2"
      },
      "execution_count": null,
      "outputs": [
        {
          "name": "stdout",
          "output_type": "stream",
          "text": [
            "Qual imagem a ser editada? (0 à 5)  4\n"
          ]
        }
      ]
    },
    {
      "cell_type": "code",
      "source": [
        "plt.imshow(imagens[i])"
      ],
      "metadata": {
        "id": "_3eODy0Z4OuL",
        "colab": {
          "base_uri": "https://localhost:8080/",
          "height": 281
        },
        "outputId": "be1d6b19-5612-4872-d58e-8c71c7b03313"
      },
      "execution_count": null,
      "outputs": [
        {
          "output_type": "execute_result",
          "data": {
            "text/plain": [
              "<matplotlib.image.AxesImage at 0x7f396fc94250>"
            ]
          },
          "metadata": {},
          "execution_count": 17
        },
        {
          "output_type": "display_data",
          "data": {
            "text/plain": [
              "<Figure size 432x288 with 1 Axes>"
            ],
            "image/png": "[encoded data removed]"
          },
          "metadata": {
            "needs_background": "light"
          }
        }
      ]
    },
    {
      "cell_type": "code",
      "source": [
        "x,y = input('Ponto a ser adicionado a fumaça (x e y):   ').split()\n",
        "x,y = int(x), int(y)"
      ],
      "metadata": {
        "id": "bMZ1F9Wl4Fgc",
        "colab": {
          "base_uri": "https://localhost:8080/"
        },
        "outputId": "31747834-dfcf-4b0e-9606-12a944db7b75"
      },
      "execution_count": null,
      "outputs": [
        {
          "name": "stdout",
          "output_type": "stream",
          "text": [
            "Ponto a ser adicionado a fumaça (x e y):   100 42\n"
          ]
        }
      ]
    },
    {
      "cell_type": "code",
      "source": [
        "x,y"
      ],
      "metadata": {
        "colab": {
          "base_uri": "https://localhost:8080/"
        },
        "id": "NvmgbOSrH5iX",
        "outputId": "c41c1765-9fcd-4bb0-f253-2022e59f21f7"
      },
      "execution_count": null,
      "outputs": [
        {
          "output_type": "execute_result",
          "data": {
            "text/plain": [
              "(100, 42)"
            ]
          },
          "metadata": {},
          "execution_count": 321
        }
      ]
    },
    {
      "cell_type": "code",
      "source": [],
      "metadata": {
        "id": "dVyL5r9L2wv3"
      },
      "execution_count": null,
      "outputs": []
    },
    {
      "cell_type": "markdown",
      "source": [
        "##### Adiciona fumaça na imagem selecionada"
      ],
      "metadata": {
        "id": "5LOxdH-3HzQx"
      }
    },
    {
      "cell_type": "code",
      "source": [
        "# reseta as imagens para o padrão (caso tenham sido editadas antes)\n",
        "imagens = [cv2.imread(f'{path}/Nao_Fumaca/{i}') for i in list_imagens]"
      ],
      "metadata": {
        "id": "2RLmHeHoI3Kx"
      },
      "execution_count": null,
      "outputs": []
    },
    {
      "cell_type": "code",
      "source": [
        "color = random.randint(130,180) # gera um numero aleatorio entre 150 e 220 para ser usado como cor na escala RGB\n",
        "gray = (color, color, color)  #ton de cinza a ser adicionado nas imagens\n",
        "raio = 10 #input('Raio do circulo inicial:   ')"
      ],
      "metadata": {
        "id": "5TVLXertC5BW"
      },
      "execution_count": null,
      "outputs": []
    },
    {
      "cell_type": "code",
      "source": [
        "# manter a contagem ascendente da numeração k das imagens i\n",
        "\n",
        "todas_imagens = os.listdir(f'{path}/Fumaca')  # pega todas as imagens de fumaça\n",
        "lista_imagens = []\n",
        "\n",
        "k = 0\n",
        "num = 1"
      ],
      "metadata": {
        "id": "Xa-ZWUdt12-f"
      },
      "execution_count": null,
      "outputs": []
    },
    {
      "cell_type": "code",
      "source": [],
      "metadata": {
        "id": "wpU6-Zog7BEb"
      },
      "execution_count": null,
      "outputs": []
    },
    {
      "cell_type": "code",
      "source": [
        "for imagem in todas_imagens:\n",
        "  # verifica se existe um exemplar k de fumaça da imagem i \n",
        "  if os.path.exists(f'{path}/Fumaca/imagem({i})_fig({k}).jpeg'):  \n",
        "      lista_imagens.append(imagem)  # adiciona o exemplar em uma lista\n",
        "\n",
        "for imagem in lista_imagens:   # verifica qual imagem está sendo editada (no caso, da imagem 0 à 5)\n",
        "  num_imagem = imagem.split('imagem(')\n",
        "  num_imagem = num_imagem[1].split(')_fig')\n",
        "  num_imagem = int(num_imagem[0])\n",
        "\n",
        "  if num_imagem != i :  # ignora a numeração das outras imagens diferentes da atual\n",
        "    pass\n",
        "\n",
        "  else:   # pega a numeração da ultima fig da imagem atual\n",
        "    num = imagem.split('_fig(')\n",
        "    num = num[1].split(').jpeg') \n",
        "    num = int(num[0]) \n",
        "  \n",
        "  if num >= k and num_imagem == i:\n",
        "    k = num + 1\n",
        "  else: pass\n",
        "\n",
        "print(k)"
      ],
      "metadata": {
        "id": "_3A6Ed3z81NB"
      },
      "execution_count": null,
      "outputs": []
    },
    {
      "cell_type": "code",
      "source": [],
      "metadata": {
        "id": "TFan2CdW8-Xk"
      },
      "execution_count": null,
      "outputs": []
    },
    {
      "cell_type": "code",
      "source": [
        "'''\n",
        "for maximo_circulos in range(1,8):\n",
        "  cv2.imwrite(f'imagem({i})_fig({k}).jpeg', cv2.circle(img = imagens[i], center = (int(x),int(y)), radius = int(raio) , color = gray, thickness= -1))\n",
        "  # cv2.imwrite salva a imagen gerada ; cv2.circle adiciona circulos nas imagens \n",
        "\n",
        "  k +=1\n",
        "\n",
        "  # proxima imagem :\n",
        "  #   centro do proximo circulo encostar no raio do circulo anterior (usando coordenadas polares)\n",
        "  #   x = x0 + r cos(z)  (centro do proximo circulo (x) é o x anterior + raio atual (r) e um angulo aleatorio de rotacao (z) )\n",
        "  #   y = y0 + r cos(z)  (analogo à x)\n",
        "  #   z aleatorio e  30 > z > 150 \n",
        "\n",
        "  raio += random.random() if raio <raio+1 else random.uniform(-10.5,12.5) # sorteia um novo raio em um intervalo  \n",
        "                                                             # random() sorteia um float entre 0 e 1, uniform() sorteia um float entre um intervalo\n",
        "  z = random.randint(30, 150) # sorteia um angulo aleatorio z ( 0 > z > 180 )\n",
        "\n",
        "  novo_x = x + raio * mt.cos(z)\n",
        "  x = novo_x\n",
        "  novo_y = y + raio * mt.sin(z)\n",
        "  y = novo_y\n",
        "\n",
        "  color = random.randint(color-20, color+30) # proximo circulo de fumaca ter uma escala de cor parecida \n",
        "  gray = (color,color,color)\n",
        "\n",
        "  if (maximo_circulos >= 8) & (maximo_circulos < 11):   # maximo de circulos é 8\n",
        "    mais_um_circulo = random.randint(0,1) # 1 (True) adiciona mais um circulo , 0 (False) para de adicionar circulos\n",
        "\n",
        "    if mais_um_circulo == True:  # refaz o processo de cima para adicionar mais circulos\n",
        "       cv2.imwrite(f'imagem({i})_fig({k}).jpeg', cv2.circle(img = imagens[i], center = (int(x),int(y)), radius = int(raio) , color = gray, thickness= -1))\n",
        "       raio += random.random() if raio <raio+1 else random.uniform(-0.5,2.5)                                                                \n",
        "       z = random.randint(0, 180) \n",
        "       novo_x = x + raio * mt.cos(z)\n",
        "       x = novo_x\n",
        "       novo_y = y + raio * mt.sin(z)\n",
        "       y = novo_y\n",
        "       k +=1\n",
        "\n",
        "    else: pass\n",
        "  else: pass    \n",
        "\n",
        "'''"
      ],
      "metadata": {
        "id": "4mEbO-88A-Sz",
        "colab": {
          "base_uri": "https://localhost:8080/"
        },
        "outputId": "1b68d9b2-41cd-48fe-c96f-9a17d0f930fa"
      },
      "execution_count": null,
      "outputs": [
        {
          "output_type": "execute_result",
          "data": {
            "text/plain": [
              "\"\\nfor maximo_circulos in range(1,8):\\n  cv2.imwrite(f'imagem({i})_fig({k}).jpeg', cv2.circle(img = imagens[i], center = (int(x),int(y)), radius = int(raio) , color = gray, thickness= -1))\\n  # cv2.imwrite salva a imagen gerada ; cv2.circle adiciona circulos nas imagens \\n\\n  k +=1\\n\\n  # proxima imagem :\\n  #   centro do proximo circulo encostar no raio do circulo anterior (usando coordenadas polares)\\n  #   x = x0 + r cos(z)  (centro do proximo circulo (x) é o x anterior + raio atual (r) e um angulo aleatorio de rotacao (z) )\\n  #   y = y0 + r cos(z)  (analogo à x)\\n  #   z aleatorio e  30 > z > 150 \\n\\n  raio += random.random() if raio <raio+1 else random.uniform(-10.5,12.5) # sorteia um novo raio em um intervalo  \\n                                                             # random() sorteia um float entre 0 e 1, uniform() sorteia um float entre um intervalo\\n  z = random.randint(30, 150) # sorteia um angulo aleatorio z ( 0 > z > 180 )\\n\\n  novo_x = x + raio * mt.cos(z)\\n  x = novo_x\\n  novo_y = y + raio * mt.sin(z)\\n  y = novo_y\\n\\n  color = random.randint(color-20, color+30) # proximo circulo de fumaca ter uma escala de cor parecida \\n  gray = (color,color,color)\\n\\n  if (maximo_circulos >= 8) & (maximo_circulos < 11):   # maximo de circulos é 8\\n    mais_um_circulo = random.randint(0,1) # 1 (True) adiciona mais um circulo , 0 (False) para de adicionar circulos\\n\\n    if mais_um_circulo == True:  # refaz o processo de cima para adicionar mais circulos\\n       cv2.imwrite(f'imagem({i})_fig({k}).jpeg', cv2.circle(img = imagens[i], center = (int(x),int(y)), radius = int(raio) , color = gray, thickness= -1))\\n       raio += random.random() if raio <raio+1 else random.uniform(-0.5,2.5)                                                                \\n       z = random.randint(0, 180) \\n       novo_x = x + raio * mt.cos(z)\\n       x = novo_x\\n       novo_y = y + raio * mt.sin(z)\\n       y = novo_y\\n       k +=1\\n\\n    else: pass\\n  else: pass    \\n\\n\""
            ],
            "application/vnd.google.colaboratory.intrinsic+json": {
              "type": "string"
            }
          },
          "metadata": {},
          "execution_count": 326
        }
      ]
    },
    {
      "cell_type": "code",
      "source": [],
      "metadata": {
        "id": "be6ZbmJegpIq"
      },
      "execution_count": null,
      "outputs": []
    },
    {
      "cell_type": "code",
      "source": [
        "\n",
        "for maximo_circulos in range(1,8):\n",
        "  cv2.circle(img = imagens[i], center = (int(x),int(y)), radius = int(raio) , color = gray, thickness= -1)\n",
        "\n",
        "  # proxima imagem :\n",
        "  #   centro do proximo circulo encostar no raio do circulo anterior (usando coordenadas polares)\n",
        "  #   x = x0 + r cos(z)  (centro do proximo circulo (x) é o x anterior + raio atual (r) e um angulo aleatorio de rotacao (z) )\n",
        "  #   y = y0 + r cos(z)  (analogo à x)\n",
        "  #   z aleatorio e  30 > z > 150 \n",
        "\n",
        "  raio += random.random() if raio <raio+1 else random.uniform(-5.5,5.5) # sorteia um novo raio em um intervalo  \n",
        "                                                             # random() sorteia um float entre 0 e 1, uniform() sorteia um float entre um intervalo\n",
        "  z = random.randint(30, 150) # sorteia um angulo aleatorio z ( 0 > z > 180 )\n",
        "\n",
        "  novo_x = x + raio * mt.cos(z)\n",
        "  x = novo_x\n",
        "  novo_y = y + raio * mt.sin(z)\n",
        "  y = novo_y\n",
        "\n",
        "  color = random.randint(color-20, color+30) # proximo circulo de fumaca ter uma escala de cor parecida \n",
        "  gray = (color,color,color)\n",
        "\n",
        "# adiciona outro circulo na mesma imagem\n",
        "  raio += random.random() if raio <raio+1 else random.uniform(-0.5,6.5) # sorteia um novo raio em um intervalo  \n",
        "                                                             # random() sorteia um float entre 0 e 1, uniform() sorteia um float entre um intervalo\n",
        "  z = random.randint(30, 100) # sorteia um angulo aleatorio z ( 0 > z > 180 )\n",
        "\n",
        "  novo_x = x + raio * mt.cos(z)\n",
        "  x = novo_x\n",
        "  novo_y = y + raio * mt.sin(z)\n",
        "  y = novo_y\n",
        "\n",
        "  color = random.randint(color-20, color+30) # proximo circulo de fumaca ter uma escala de cor parecida \n",
        "  gray = (color,color,color)\n",
        "\n",
        "  cv2.imwrite(f'imagem({i})_fig({k}).jpeg', cv2.circle(img = imagens[i], center = (int(x),int(y)), radius = int(raio) , color = gray, thickness= -1))\n",
        "  # cv2.imwrite salva a imagen gerada ; cv2.circle adiciona circulos nas imagens \n",
        "\n",
        "  k +=1\n",
        "\n",
        "  if (maximo_circulos >= 7) & (maximo_circulos < 12):   # maximo de circulos é 8\n",
        "    mais_um_circulo = random.randint(0,1) # 1 (True) adiciona mais um circulo , 0 (False) para de adicionar circulos\n",
        "\n",
        "    if mais_um_circulo == True:  # refaz o processo de cima para adicionar mais circulos\n",
        "       cv2.imwrite(f'imagem({i})_fig({k}).jpeg', cv2.circle(img = imagens[i], center = (int(x),int(y)), radius = int(raio) , color = gray, thickness= -1))\n",
        "       raio += random.random() if raio <raio+1 else random.uniform(-5.5,6.5)                                                                \n",
        "       z = random.randint(0, 180) \n",
        "       novo_x = x + raio * mt.cos(z)\n",
        "       x = novo_x\n",
        "       novo_y = y + raio * mt.sin(z)\n",
        "       y = novo_y\n",
        "       k +=1\n",
        "\n",
        "    else: pass\n",
        "  else: pass    \n"
      ],
      "metadata": {
        "id": "gljqiuhfgpjy"
      },
      "execution_count": null,
      "outputs": []
    },
    {
      "cell_type": "code",
      "source": [
        "k"
      ],
      "metadata": {
        "colab": {
          "base_uri": "https://localhost:8080/"
        },
        "id": "YbZ7hWB56h1N",
        "outputId": "8cd3b080-1154-4047-db81-c20cd6303b1f"
      },
      "execution_count": null,
      "outputs": [
        {
          "output_type": "execute_result",
          "data": {
            "text/plain": [
              "7"
            ]
          },
          "metadata": {},
          "execution_count": 328
        }
      ]
    },
    {
      "cell_type": "markdown",
      "source": [
        "##### Move as imagens editadas"
      ],
      "metadata": {
        "id": "j2NdcF18IN0W"
      }
    },
    {
      "cell_type": "code",
      "source": [
        "for imagem in os.listdir('/content'):\n",
        "  if 'imagem' in imagem:\n",
        "    shutil.move(f'/content/{imagem}',f'{path}/Fumaca/')"
      ],
      "metadata": {
        "id": "Zk54rdncxTyI"
      },
      "execution_count": null,
      "outputs": []
    },
    {
      "cell_type": "markdown",
      "source": [
        "#### nuke button "
      ],
      "metadata": {
        "id": "FxrCdsGp64ue"
      }
    },
    {
      "cell_type": "code",
      "source": [
        "# apaga as imagens "
      ],
      "metadata": {
        "id": "A2A4InTK6-nO"
      },
      "execution_count": null,
      "outputs": []
    },
    {
      "cell_type": "code",
      "source": [
        "for img in os.listdir('/content'):\n",
        "  if 'imagem' in img:\n",
        "   os.remove(img)"
      ],
      "metadata": {
        "id": "CIh5HlKh3IFO"
      },
      "execution_count": null,
      "outputs": []
    },
    {
      "cell_type": "code",
      "source": [
        "# reseta as imagens  (desfaz os circulos q são adicionados in place)"
      ],
      "metadata": {
        "id": "LtZMXU8x3Nne"
      },
      "execution_count": null,
      "outputs": []
    },
    {
      "cell_type": "code",
      "source": [
        "imagens = [cv2.imread(f'{path}/Nao_Fumaca/{i}') for i in list_imagens] #cv2.imread() retorna um array -> compreensão de lista para fazer upload de todas as imagens \n"
      ],
      "metadata": {
        "id": "rmiqagD_7NhV"
      },
      "execution_count": null,
      "outputs": []
    },
    {
      "cell_type": "code",
      "source": [
        "# reseta o raio inicial"
      ],
      "metadata": {
        "id": "W3Vr6fgu7Sjl"
      },
      "execution_count": null,
      "outputs": []
    },
    {
      "cell_type": "code",
      "source": [
        "raio = 1"
      ],
      "metadata": {
        "id": "V-OmV3el7-AH"
      },
      "execution_count": null,
      "outputs": []
    },
    {
      "cell_type": "code",
      "source": [],
      "metadata": {
        "id": "XJAowj-y7Ole"
      },
      "execution_count": null,
      "outputs": []
    },
    {
      "cell_type": "code",
      "source": [
        "plt.imshow(imagens[0])"
      ],
      "metadata": {
        "id": "VP6fTKgGD7ME",
        "colab": {
          "base_uri": "https://localhost:8080/"
        },
        "outputId": "8948fee6-0626-4370-f6d3-ddf57cd5aad3"
      },
      "execution_count": null,
      "outputs": [
        {
          "output_type": "execute_result",
          "data": {
            "text/plain": [
              "<matplotlib.image.AxesImage at 0x7fd91346d070>"
            ]
          },
          "metadata": {},
          "execution_count": 267
        },
        {
          "output_type": "display_data",
          "data": {
            "text/plain": [
              "<Figure size 432x288 with 1 Axes>"
            ],
            "image/png": "[encoded data removed]"
          },
          "metadata": {
            "needs_background": "light"
          }
        }
      ]
    },
    {
      "cell_type": "code",
      "source": [],
      "metadata": {
        "id": "HN8lCiCp_V7u"
      },
      "execution_count": null,
      "outputs": []
    },
    {
      "cell_type": "code",
      "source": [
        "\n"
      ],
      "metadata": {
        "id": "SbbGbGNT_fLA"
      },
      "execution_count": null,
      "outputs": []
    },
    {
      "cell_type": "markdown",
      "source": [
        "### Testes"
      ],
      "metadata": {
        "id": "4unPNzV-A80c"
      }
    },
    {
      "cell_type": "code",
      "source": [
        "# fig = plt.figure(figsize = (50,20))\n",
        "\n",
        "# for i,j in enumerate(img):\n",
        "#   plt.imshow(j)\n",
        "#   plt.axis('off')\n",
        "#   fig.add_subplot(linha,coluna,i+1)\n",
        "#   linha+=1\n"
      ],
      "metadata": {
        "id": "Lsg-XrH4Xq8g"
      },
      "execution_count": null,
      "outputs": []
    },
    {
      "cell_type": "code",
      "source": [
        "# img = cv2.imread(f'{path}/Nao_Fumaca/Corte3.jpeg')\n",
        "# img"
      ],
      "metadata": {
        "id": "7ZEJQjaZQw6n"
      },
      "execution_count": null,
      "outputs": []
    },
    {
      "cell_type": "code",
      "source": [
        "# def click_event(event, x, y, flags, params):\n",
        "  \n",
        "#     # checking for left mouse clicks\n",
        "#     if event == cv2.EVENT_LBUTTONDOWN:\n",
        "  \n",
        "#         # displaying the coordinates\n",
        "#         # on the Shell\n",
        "#         print(x, ' ', y)\n",
        "  \n",
        "#         # displaying the coordinates\n",
        "#         # on the image window\n",
        "#         font = cv2.FONT_HERSHEY_SIMPLEX\n",
        "#         cv2.putText(img, str(x) + ',' +\n",
        "#                     str(y), (x,y), font,\n",
        "#                     1, (255, 0, 0), 2)\n",
        "#         cv2_imshow(img)\n",
        "  \n",
        "#     # checking for right mouse clicks     \n",
        "#     if event==cv2.EVENT_RBUTTONDOWN:\n",
        "  \n",
        "#         # displaying the coordinates\n",
        "#         # on the Shell\n",
        "#         print(x, ' ', y)\n",
        "  \n",
        "#         # displaying the coordinates\n",
        "#         # on the image window\n",
        "#         font = cv2.FONT_HERSHEY_SIMPLEX\n",
        "#         b = img[y, x, 0]\n",
        "#         g = img[y, x, 1]\n",
        "#         r = img[y, x, 2]\n",
        "#         cv2.putText(img, str(b) + ',' +\n",
        "#                     str(g) + ',' + str(r),\n",
        "#                     (x,y), font, 1,\n",
        "#                     (255, 255, 0), 2)\n",
        "#         cv2_imshow(img)\n",
        "  "
      ],
      "metadata": {
        "id": "EMGcQHmyKwpy"
      },
      "execution_count": null,
      "outputs": []
    },
    {
      "cell_type": "code",
      "source": [
        "# # driver function\n",
        "# if __name__==\"__main__\":\n",
        "  \n",
        "#     # reading the image\n",
        "# #    img = cv2.imread('lena.jpg', 1)\n",
        "  \n",
        "#     # displaying the image\n",
        "#     cv2_imshow(img[0])\n",
        "  \n",
        "#     cv2.namedWindow(\"Window\")\n",
        "\n",
        "#     # setting mouse handler for the image\n",
        "#     # and calling the click_event() function\n",
        "#     cv2.setMouseCallback('Window', click_event)\n",
        "  \n",
        "#     # wait for a key to be pressed to exit\n",
        "#     cv2.waitKey(0)\n",
        "  \n",
        "#     # close the window\n",
        "#     cv2.destroyAllWindows()"
      ],
      "metadata": {
        "id": "ZtrjOyRlKxLC",
        "colab": {
          "base_uri": "https://localhost:8080/",
          "height": 127
        },
        "outputId": "c156c6fa-3889-4fd9-9774-83499552f94d"
      },
      "execution_count": null,
      "outputs": [
        {
          "output_type": "display_data",
          "data": {
            "text/plain": [
              "<PIL.Image.Image image mode=RGB size=110x110 at 0x7FEF9D52D370>"
            ],
            "image/png": "[encoded data removed]"
          },
          "metadata": {}
        }
      ]
    },
    {
      "cell_type": "code",
      "source": [
        " cv2.setMouseCallback(f'{path}/Nao_Fumaca/{list_imagens[0]}.jpeg', click_event )"
      ],
      "metadata": {
        "colab": {
          "base_uri": "https://localhost:8080/",
          "height": 165
        },
        "id": "ceA97oBN9Py-",
        "outputId": "9da97edb-68a4-416b-9380-67769425c578"
      },
      "execution_count": null,
      "outputs": [
        {
          "output_type": "error",
          "ename": "TypeError",
          "evalue": "ignored",
          "traceback": [
            "\u001b[0;31m---------------------------------------------------------------------------\u001b[0m",
            "\u001b[0;31mTypeError\u001b[0m                                 Traceback (most recent call last)",
            "\u001b[0;32m<ipython-input-80-be2e27bfb41a>\u001b[0m in \u001b[0;36m<module>\u001b[0;34m\u001b[0m\n\u001b[0;32m----> 1\u001b[0;31m \u001b[0mcv2\u001b[0m\u001b[0;34m.\u001b[0m\u001b[0msetMouseCallback\u001b[0m\u001b[0;34m(\u001b[0m\u001b[0;34mf'{path}/Nao_Fumaca/{list_imagens[0]}'\u001b[0m\u001b[0;34m,\u001b[0m \u001b[0;34m)\u001b[0m\u001b[0;34m\u001b[0m\u001b[0;34m\u001b[0m\u001b[0m\n\u001b[0m",
            "\u001b[0;31mTypeError\u001b[0m: function missing required argument 'on_mouse' (pos 2)"
          ]
        }
      ]
    },
    {
      "cell_type": "code",
      "source": [
        "for i in range(len(img)):\n",
        "  cv2_imshow(img[i])\n",
        "  "
      ],
      "metadata": {
        "id": "7Mwhf1uycAzs"
      },
      "execution_count": null,
      "outputs": []
    },
    {
      "cell_type": "code",
      "source": [],
      "metadata": {
        "id": "ZO1TLU9WQZJz"
      },
      "execution_count": null,
      "outputs": []
    },
    {
      "cell_type": "code",
      "source": [
        "https://learnopencv.com/mouse-and-trackbar-in-opencv-gui/"
      ],
      "metadata": {
        "id": "UejAInzOcA35"
      },
      "execution_count": null,
      "outputs": []
    },
    {
      "cell_type": "code",
      "source": [
        "https://machinelearningknowledge.ai/quick-guide-for-drawing-circle-in-opencv-python-using-cv2-circle-with-examples/"
      ],
      "metadata": {
        "id": "k0Oc_daDhqkH"
      },
      "execution_count": null,
      "outputs": []
    },
    {
      "cell_type": "code",
      "source": [
        "https://www.geeksforgeeks.org/displaying-the-coordinates-of-the-points-clicked-on-the-image-using-python-opencv/"
      ],
      "metadata": {
        "id": "eEghsf0Vb-NL"
      },
      "execution_count": null,
      "outputs": []
    },
    {
      "cell_type": "code",
      "source": [],
      "metadata": {
        "id": "H8AJr2Zm4JQH"
      },
      "execution_count": null,
      "outputs": []
    },
    {
      "cell_type": "code",
      "source": [],
      "metadata": {
        "id": "OLOY4WD25Yb4"
      },
      "execution_count": null,
      "outputs": []
    },
    {
      "cell_type": "code",
      "source": [
        "raio = 1\n",
        "raio"
      ],
      "metadata": {
        "colab": {
          "base_uri": "https://localhost:8080/"
        },
        "id": "dT-YnbuJu7gv",
        "outputId": "40b357a3-4328-4f6c-e46d-0d5e6e76c2a2"
      },
      "execution_count": null,
      "outputs": [
        {
          "output_type": "execute_result",
          "data": {
            "text/plain": [
              "1"
            ]
          },
          "metadata": {},
          "execution_count": 167
        }
      ]
    },
    {
      "cell_type": "code",
      "source": [
        "raio += random.random() if raio <raio+1 else random.uniform(-0.5,1.5) # sorteia um novo raio em um intervalo\n",
        "raio"
      ],
      "metadata": {
        "colab": {
          "base_uri": "https://localhost:8080/"
        },
        "id": "MEznbR2Vu8N2",
        "outputId": "d89b7d73-85f1-43dc-cb62-84f1c6e412e5"
      },
      "execution_count": null,
      "outputs": [
        {
          "output_type": "execute_result",
          "data": {
            "text/plain": [
              "4.334022970812496"
            ]
          },
          "metadata": {},
          "execution_count": 174
        }
      ]
    },
    {
      "cell_type": "code",
      "source": [],
      "metadata": {
        "id": "TdrWPWAC23j2"
      },
      "execution_count": null,
      "outputs": []
    },
    {
      "cell_type": "code",
      "source": [
        "img[0] = cv2.circle(img = img[0], center = (250,250), radius = 3 , color = (150,150,150), thickness= 10)"
      ],
      "metadata": {
        "id": "QrFLkVXyvqco",
        "colab": {
          "base_uri": "https://localhost:8080/",
          "height": 183
        },
        "outputId": "1453762b-766e-4cd2-e101-36e49ec9b3e5"
      },
      "execution_count": null,
      "outputs": [
        {
          "output_type": "error",
          "ename": "NameError",
          "evalue": "ignored",
          "traceback": [
            "\u001b[0;31m---------------------------------------------------------------------------\u001b[0m",
            "\u001b[0;31mNameError\u001b[0m                                 Traceback (most recent call last)",
            "\u001b[0;32m<ipython-input-207-c7403a57788d>\u001b[0m in \u001b[0;36m<module>\u001b[0;34m\u001b[0m\n\u001b[0;32m----> 1\u001b[0;31m \u001b[0mimg\u001b[0m\u001b[0;34m[\u001b[0m\u001b[0;36m0\u001b[0m\u001b[0;34m]\u001b[0m \u001b[0;34m=\u001b[0m \u001b[0mcv2\u001b[0m\u001b[0;34m.\u001b[0m\u001b[0mcircle\u001b[0m\u001b[0;34m(\u001b[0m\u001b[0mimg\u001b[0m \u001b[0;34m=\u001b[0m \u001b[0mimg\u001b[0m\u001b[0;34m[\u001b[0m\u001b[0;36m0\u001b[0m\u001b[0;34m]\u001b[0m\u001b[0;34m,\u001b[0m \u001b[0mcenter\u001b[0m \u001b[0;34m=\u001b[0m \u001b[0;34m(\u001b[0m\u001b[0;36m250\u001b[0m\u001b[0;34m,\u001b[0m\u001b[0;36m250\u001b[0m\u001b[0;34m)\u001b[0m\u001b[0;34m,\u001b[0m \u001b[0mradius\u001b[0m \u001b[0;34m=\u001b[0m \u001b[0;36m3\u001b[0m \u001b[0;34m,\u001b[0m \u001b[0mcolor\u001b[0m \u001b[0;34m=\u001b[0m \u001b[0;34m(\u001b[0m\u001b[0;36m150\u001b[0m\u001b[0;34m,\u001b[0m\u001b[0;36m150\u001b[0m\u001b[0;34m,\u001b[0m\u001b[0;36m150\u001b[0m\u001b[0;34m)\u001b[0m\u001b[0;34m,\u001b[0m \u001b[0mthickness\u001b[0m\u001b[0;34m=\u001b[0m \u001b[0;36m10\u001b[0m\u001b[0;34m)\u001b[0m\u001b[0;34m\u001b[0m\u001b[0;34m\u001b[0m\u001b[0m\n\u001b[0m",
            "\u001b[0;31mNameError\u001b[0m: name 'img' is not defined"
          ]
        }
      ]
    },
    {
      "cell_type": "code",
      "source": [],
      "metadata": {
        "id": "0rAtSvOKwteY"
      },
      "execution_count": null,
      "outputs": []
    },
    {
      "cell_type": "code",
      "source": [],
      "metadata": {
        "id": "1WjmyoSewtiw"
      },
      "execution_count": null,
      "outputs": []
    },
    {
      "cell_type": "code",
      "source": [
        "a = '/content/drive/MyDrive/TCC/Videos/Treinamento_N/Fumaca/imagem(1ddd)'\n",
        "a = a.split('imagem(')\n",
        "a = a[1].split('ddd)')\n",
        "a = int(a[0])\n",
        "type(a)"
      ],
      "metadata": {
        "id": "7giINsHQuqq5"
      },
      "execution_count": null,
      "outputs": []
    }
  ]
}