{
  "cells": [
    {
      "cell_type": "markdown",
      "metadata": {
        "id": "view-in-github",
        "colab_type": "text"
      },
      "source": [
        "<a href=\"https://colab.research.google.com/github/Leandro-Bernardo/Neural-Network-for-fire-detection/blob/main/1_Rede_Neural.ipynb\" target=\"_parent\"><img src=\"https://colab.research.google.com/assets/colab-badge.svg\" alt=\"Open In Colab\"/></a>"
      ]
    },
    {
      "cell_type": "code",
      "execution_count": null,
      "metadata": {
        "id": "xRWh6wNTr3jz"
      },
      "outputs": [],
      "source": [
        "# 27 epochs, learning rate 0.001 ,  4 layers de convolução  (16,32,32,32)"
      ]
    },
    {
      "cell_type": "markdown",
      "metadata": {
        "id": "2tCaEW5Mj8tE"
      },
      "source": [
        "#### Drive"
      ]
    },
    {
      "cell_type": "code",
      "execution_count": null,
      "metadata": {
        "colab": {
          "base_uri": "https://localhost:8080/"
        },
        "id": "gEhk2RXOEZE7",
        "outputId": "b1494796-3f24-4c5d-8466-076466858a1c"
      },
      "outputs": [
        {
          "name": "stdout",
          "output_type": "stream",
          "text": [
            "Drive already mounted at /content/drive; to attempt to forcibly remount, call drive.mount(\"/content/drive\", force_remount=True).\n"
          ]
        }
      ],
      "source": [
        "from google.colab import drive\n",
        "drive.mount('/content/drive')"
      ]
    },
    {
      "cell_type": "code",
      "execution_count": null,
      "metadata": {
        "id": "W6_4tONyUM-R"
      },
      "outputs": [],
      "source": []
    },
    {
      "cell_type": "markdown",
      "metadata": {
        "id": "JWBR9U1XLUdM"
      },
      "source": [
        "#### Pré processamento das Imagens"
      ]
    },
    {
      "cell_type": "code",
      "execution_count": null,
      "metadata": {
        "id": "PjcvW2pE_DYj"
      },
      "outputs": [],
      "source": [
        "import os"
      ]
    },
    {
      "cell_type": "code",
      "execution_count": null,
      "metadata": {
        "colab": {
          "base_uri": "https://localhost:8080/"
        },
        "id": "bMvbhxEdrDfk",
        "outputId": "77ee4610-13ff-442d-d3dc-5882d5759abb"
      },
      "outputs": [
        {
          "name": "stdout",
          "output_type": "stream",
          "text": [
            "Qual Treinamento?/content/drive/MyDrive/TCC/Videos/Treinamento Original\n"
          ]
        }
      ],
      "source": [
        "local = input('Qual Treinamento?')"
      ]
    },
    {
      "cell_type": "code",
      "execution_count": null,
      "metadata": {
        "colab": {
          "base_uri": "https://localhost:8080/"
        },
        "id": "yqk5rjhT_DYj",
        "outputId": "72d3ffee-4fe8-4833-d5b8-fdebe6c55c91"
      },
      "outputs": [
        {
          "data": {
            "text/plain": [
              "['Fumaca_Original', 'Nao_Fumaca_Original']"
            ]
          },
          "execution_count": 13,
          "metadata": {},
          "output_type": "execute_result"
        }
      ],
      "source": [
        "dir = list(os.listdir(local))\n",
        "dir"
      ]
    },
    {
      "cell_type": "code",
      "execution_count": null,
      "metadata": {
        "colab": {
          "base_uri": "https://localhost:8080/"
        },
        "id": "GxFu6pdE_DYj",
        "outputId": "4df2ea53-29ce-4dbc-9e7a-e93490d7ad46"
      },
      "outputs": [
        {
          "name": "stdout",
          "output_type": "stream",
          "text": [
            "Fumaca_Original contem : 93 fotos\n",
            "Nao_Fumaca_Original contem : 131 fotos\n",
            "Total: 224\n"
          ]
        }
      ],
      "source": [
        "print(f'{dir[0]} contem :', len(os.listdir(f'{local}/{dir[0]}')),'fotos')\n",
        "print(f'{dir[1]} contem :', len(os.listdir(f'{local}/{dir[1]}')),'fotos')\n",
        "\n",
        "size = sum([len(os.listdir(f'{local}/{dir[0]}')) ,len(os.listdir(f'{local}/{dir[1]}'))])\n",
        "print('Total:', size)"
      ]
    },
    {
      "cell_type": "code",
      "execution_count": null,
      "metadata": {
        "colab": {
          "base_uri": "https://localhost:8080/"
        },
        "id": "-AB3h8eM_DYk",
        "outputId": "ebc73bb4-3427-4123-ce4c-6c896929acb4"
      },
      "outputs": [
        {
          "data": {
            "text/plain": [
              "28"
            ]
          },
          "execution_count": 15,
          "metadata": {},
          "output_type": "execute_result"
        }
      ],
      "source": [
        "amostras = int(size/8)\n",
        "amostras\n"
      ]
    },
    {
      "cell_type": "code",
      "execution_count": null,
      "metadata": {
        "colab": {
          "base_uri": "https://localhost:8080/"
        },
        "id": "80iP-UCV_DYk",
        "outputId": "81d8a0b7-e4da-4990-fad3-ba3baefdd26c"
      },
      "outputs": [
        {
          "name": "stdout",
          "output_type": "stream",
          "text": [
            "Found 224 images belonging to 2 classes.\n"
          ]
        }
      ],
      "source": [
        "from tensorflow.keras.preprocessing.image import ImageDataGenerator\n",
        "\n",
        "# Para reescalar as imagens em 1./255  (normalizar)\n",
        "reescala = ImageDataGenerator(rescale=1/255)\n",
        "\n",
        "# Flow training images in batches using train_datagen generator\n",
        "imagens_treinamento = reescala.flow_from_directory(\n",
        "        local,  # This is the source directory for training images\n",
        "        target_size=(300, 300),  # All images will be resized to 300x300\n",
        "        batch_size= amostras,\n",
        "        # Since we use binary_crossentropy loss, we need binary labels\n",
        "        class_mode='binary')"
      ]
    },
    {
      "cell_type": "code",
      "execution_count": null,
      "metadata": {
        "id": "6mFtRruf_DYk"
      },
      "outputs": [],
      "source": []
    },
    {
      "cell_type": "markdown",
      "metadata": {
        "id": "KnwP9-ROHzfO"
      },
      "source": [
        "#### Rede Neural"
      ]
    },
    {
      "cell_type": "code",
      "execution_count": null,
      "metadata": {
        "id": "HlTgXdcUDsD5"
      },
      "outputs": [],
      "source": [
        "import tensorflow as tf\n",
        "from tensorflow import keras"
      ]
    },
    {
      "cell_type": "code",
      "execution_count": null,
      "metadata": {
        "id": "htq8_uF5H0id"
      },
      "outputs": [],
      "source": [
        "rede = tf.keras.models.Sequential([\n",
        "    \n",
        "    # tf.keras.layers.Conv2D ( numero de filtros , matriz n x n, função de ativação, dados de entrada)\n",
        "    tf.keras.layers.Conv2D(16, (3,3), activation='relu', input_shape=(300, 300, 3)), # input_shape(linhas, colunas, camadas (de cor))\n",
        "    tf.keras.layers.MaxPooling2D(2, 2),  # max pool usando uma matriz n x n\n",
        "    \n",
        "    tf.keras.layers.Conv2D(32, (3,3), activation='relu'),\n",
        "    tf.keras.layers.MaxPooling2D(2,2),\n",
        "\n",
        "    tf.keras.layers.Conv2D(32, (3,3), activation='relu'),\n",
        "    tf.keras.layers.MaxPooling2D(2,2),\n",
        "\n",
        "    tf.keras.layers.Conv2D(32, (3,3), activation='relu'),\n",
        "    tf.keras.layers.MaxPooling2D(2,2),\n",
        "\n",
        "    # Flatten os resultados para usar na Rede Neural Densa\n",
        "    tf.keras.layers.Flatten(),\n",
        "\n",
        "    # tf.keras.layers.Dense( N, função) cria uma Hidden Layer com N neuronios\n",
        "    tf.keras.layers.Dense(256, activation='relu'),\n",
        "\n",
        "    # Só um neurônio de saída por causa da função de ativação (Sigmoid). Esse neurônio recebe valor 0 ou 1 (0 para classe 1 e 1 para a outra classe)  \n",
        "    tf.keras.layers.Dense(1, activation='sigmoid')])"
      ]
    },
    {
      "cell_type": "code",
      "execution_count": null,
      "metadata": {
        "colab": {
          "base_uri": "https://localhost:8080/"
        },
        "id": "DdGok2z1KPBG",
        "outputId": "8fc83baa-3332-4461-edec-8b01e4004d3e"
      },
      "outputs": [
        {
          "name": "stdout",
          "output_type": "stream",
          "text": [
            "Model: \"sequential\"\n",
            "_________________________________________________________________\n",
            " Layer (type)                Output Shape              Param #   \n",
            "=================================================================\n",
            " conv2d (Conv2D)             (None, 298, 298, 16)      448       \n",
            "                                                                 \n",
            " max_pooling2d (MaxPooling2D  (None, 149, 149, 16)     0         \n",
            " )                                                               \n",
            "                                                                 \n",
            " conv2d_1 (Conv2D)           (None, 147, 147, 32)      4640      \n",
            "                                                                 \n",
            " max_pooling2d_1 (MaxPooling  (None, 73, 73, 32)       0         \n",
            " 2D)                                                             \n",
            "                                                                 \n",
            " conv2d_2 (Conv2D)           (None, 71, 71, 32)        9248      \n",
            "                                                                 \n",
            " max_pooling2d_2 (MaxPooling  (None, 35, 35, 32)       0         \n",
            " 2D)                                                             \n",
            "                                                                 \n",
            " conv2d_3 (Conv2D)           (None, 33, 33, 32)        9248      \n",
            "                                                                 \n",
            " max_pooling2d_3 (MaxPooling  (None, 16, 16, 32)       0         \n",
            " 2D)                                                             \n",
            "                                                                 \n",
            " flatten (Flatten)           (None, 8192)              0         \n",
            "                                                                 \n",
            " dense (Dense)               (None, 256)               2097408   \n",
            "                                                                 \n",
            " dense_1 (Dense)             (None, 1)                 257       \n",
            "                                                                 \n",
            "=================================================================\n",
            "Total params: 2,121,249\n",
            "Trainable params: 2,121,249\n",
            "Non-trainable params: 0\n",
            "_________________________________________________________________\n"
          ]
        }
      ],
      "source": [
        "rede.summary()"
      ]
    },
    {
      "cell_type": "code",
      "execution_count": null,
      "metadata": {
        "id": "d8nvEyCb1uaD"
      },
      "outputs": [],
      "source": []
    },
    {
      "cell_type": "code",
      "execution_count": null,
      "metadata": {
        "id": "1YjDbbRoKWwV"
      },
      "outputs": [],
      "source": [
        "from tensorflow.keras.optimizers import RMSprop"
      ]
    },
    {
      "cell_type": "code",
      "execution_count": null,
      "metadata": {
        "id": "i0PWOLAdKazY"
      },
      "outputs": [],
      "source": [
        "rede.compile(loss='binary_crossentropy',\n",
        "              optimizer=RMSprop(learning_rate=0.001),\n",
        "              metrics=['accuracy'])"
      ]
    },
    {
      "cell_type": "markdown",
      "metadata": {
        "id": "eAPGiE708i1U"
      },
      "source": [
        "#### Treinamento"
      ]
    },
    {
      "cell_type": "code",
      "execution_count": null,
      "metadata": {
        "colab": {
          "base_uri": "https://localhost:8080/"
        },
        "id": "DlnNYbMdHy3i",
        "outputId": "a3420462-9b22-44b6-b702-b19dec1cc1f0"
      },
      "outputs": [
        {
          "name": "stdout",
          "output_type": "stream",
          "text": [
            "/content/drive/MyDrive/TCC/Videos\n"
          ]
        }
      ],
      "source": [
        "#para trocar o diretorio \n",
        "%cd '/content/drive/MyDrive/TCC/Videos/' "
      ]
    },
    {
      "cell_type": "code",
      "execution_count": null,
      "metadata": {
        "colab": {
          "background_save": true,
          "base_uri": "https://localhost:8080/"
        },
        "id": "6eq7fYgS8k_P",
        "outputId": "b72cc26d-84ea-447c-b19c-1ac834985d50"
      },
      "outputs": [
        {
          "name": "stdout",
          "output_type": "stream",
          "text": [
            "Epoch 1/27\n",
            "8/8 [==============================] - 26s 3s/step - loss: 0.6870 - accuracy: 0.5848\n",
            "Epoch 2/27\n",
            "8/8 [==============================] - 17s 2s/step - loss: 0.6830 - accuracy: 0.5848\n",
            "Epoch 3/27\n",
            "8/8 [==============================] - 17s 2s/step - loss: 0.6679 - accuracy: 0.5848\n",
            "Epoch 4/27\n",
            "8/8 [==============================] - 17s 2s/step - loss: 0.6731 - accuracy: 0.5804\n",
            "Epoch 5/27\n",
            "8/8 [==============================] - 17s 2s/step - loss: 0.6945 - accuracy: 0.7188\n",
            "Epoch 6/27\n",
            "8/8 [==============================] - 17s 2s/step - loss: 0.6223 - accuracy: 0.6027\n",
            "Epoch 7/27\n",
            "8/8 [==============================] - 17s 2s/step - loss: 0.5623 - accuracy: 0.7455\n",
            "Epoch 8/27\n",
            "8/8 [==============================] - 17s 2s/step - loss: 0.4756 - accuracy: 0.7812\n",
            "Epoch 9/27\n",
            "8/8 [==============================] - 17s 2s/step - loss: 0.6755 - accuracy: 0.8929\n",
            "Epoch 10/27\n",
            "8/8 [==============================] - 17s 2s/step - loss: 0.3224 - accuracy: 0.9375\n",
            "Epoch 11/27\n",
            "8/8 [==============================] - 17s 2s/step - loss: 0.1655 - accuracy: 0.9598\n",
            "Epoch 12/27\n",
            "8/8 [==============================] - 17s 2s/step - loss: 0.1028 - accuracy: 0.9688\n",
            "Epoch 13/27\n",
            "8/8 [==============================] - 19s 2s/step - loss: 0.0654 - accuracy: 0.9777\n",
            "Epoch 14/27\n",
            "8/8 [==============================] - 19s 2s/step - loss: 0.0471 - accuracy: 0.9911\n",
            "Epoch 15/27\n",
            "8/8 [==============================] - 17s 2s/step - loss: 0.2262 - accuracy: 0.8839\n",
            "Epoch 16/27\n",
            "8/8 [==============================] - 21s 3s/step - loss: 0.0541 - accuracy: 0.9821\n",
            "Epoch 17/27\n",
            "8/8 [==============================] - 17s 2s/step - loss: 0.0164 - accuracy: 0.9955\n",
            "Epoch 18/27\n",
            "8/8 [==============================] - 17s 2s/step - loss: 0.0224 - accuracy: 0.9955\n",
            "Epoch 19/27\n",
            "8/8 [==============================] - 17s 2s/step - loss: 0.0143 - accuracy: 0.9955\n",
            "Epoch 20/27\n",
            "8/8 [==============================] - 17s 2s/step - loss: 0.2240 - accuracy: 0.9554\n",
            "Epoch 21/27\n",
            "8/8 [==============================] - 17s 2s/step - loss: 0.0092 - accuracy: 1.0000\n",
            "Epoch 22/27\n",
            "8/8 [==============================] - 17s 2s/step - loss: 0.0167 - accuracy: 0.9911\n",
            "Epoch 23/27\n",
            "8/8 [==============================] - 17s 2s/step - loss: 0.0050 - accuracy: 1.0000\n",
            "Epoch 24/27\n",
            "8/8 [==============================] - 17s 2s/step - loss: 0.0158 - accuracy: 0.9955\n",
            "Epoch 25/27\n",
            "8/8 [==============================] - 17s 2s/step - loss: 0.0057 - accuracy: 0.9955\n",
            "Epoch 26/27\n",
            "8/8 [==============================] - 19s 2s/step - loss: 6.9158e-04 - accuracy: 1.0000\n",
            "Epoch 27/27\n",
            "8/8 [==============================] - 17s 2s/step - loss: 7.0754e-04 - accuracy: 1.0000\n"
          ]
        }
      ],
      "source": [
        "history = rede.fit(\n",
        "      imagens_treinamento,\n",
        "      steps_per_epoch=8,  # total de x imagens e cada batch com y imagens , logo o passo será x/y \n",
        "      epochs=27,     \n",
        "      verbose=1)"
      ]
    },
    {
      "cell_type": "code",
      "execution_count": null,
      "metadata": {
        "id": "nwDYDydhwe8J"
      },
      "outputs": [],
      "source": []
    },
    {
      "cell_type": "code",
      "execution_count": null,
      "metadata": {
        "id": "OZJfyxonQz_z"
      },
      "outputs": [],
      "source": []
    },
    {
      "cell_type": "markdown",
      "metadata": {
        "id": "does8-uoQ0o7"
      },
      "source": [
        "#### Validamento"
      ]
    },
    {
      "cell_type": "code",
      "execution_count": null,
      "metadata": {
        "colab": {
          "base_uri": "https://localhost:8080/"
        },
        "id": "zLAJ-KL02jZw",
        "outputId": "9d62aebc-d3e9-419d-d3ac-c005713b25fb"
      },
      "outputs": [
        {
          "name": "stdout",
          "output_type": "stream",
          "text": [
            "/content/drive/MyDrive/TCC/Videos/Validação\n"
          ]
        }
      ],
      "source": [
        "%cd '/content/drive/MyDrive/TCC/Videos/Validação'"
      ]
    },
    {
      "cell_type": "code",
      "execution_count": null,
      "metadata": {
        "colab": {
          "base_uri": "https://localhost:8080/",
          "height": 107
        },
        "id": "kb9_gDXI8ofZ",
        "outputId": "4161434e-1e02-4408-d94b-d90ad9402738"
      },
      "outputs": [
        {
          "data": {
            "text/html": [
              "\n",
              "     <input type=\"file\" id=\"files-1c52edcd-b769-4c70-a1ad-94e26c25c0db\" name=\"files[]\" multiple disabled\n",
              "        style=\"border:none\" />\n",
              "     <output id=\"result-1c52edcd-b769-4c70-a1ad-94e26c25c0db\">\n",
              "      Upload widget is only available when the cell has been executed in the\n",
              "      current browser session. Please rerun this cell to enable.\n",
              "      </output>\n",
              "      <script>// Copyright 2017 Google LLC\n",
              "//\n",
              "// Licensed under the Apache License, Version 2.0 (the \"License\");\n",
              "// you may not use this file except in compliance with the License.\n",
              "// You may obtain a copy of the License at\n",
              "//\n",
              "//      http://www.apache.org/licenses/LICENSE-2.0\n",
              "//\n",
              "// Unless required by applicable law or agreed to in writing, software\n",
              "// distributed under the License is distributed on an \"AS IS\" BASIS,\n",
              "// WITHOUT WARRANTIES OR CONDITIONS OF ANY KIND, either express or implied.\n",
              "// See the License for the specific language governing permissions and\n",
              "// limitations under the License.\n",
              "\n",
              "/**\n",
              " * @fileoverview Helpers for google.colab Python module.\n",
              " */\n",
              "(function(scope) {\n",
              "function span(text, styleAttributes = {}) {\n",
              "  const element = document.createElement('span');\n",
              "  element.textContent = text;\n",
              "  for (const key of Object.keys(styleAttributes)) {\n",
              "    element.style[key] = styleAttributes[key];\n",
              "  }\n",
              "  return element;\n",
              "}\n",
              "\n",
              "// Max number of bytes which will be uploaded at a time.\n",
              "const MAX_PAYLOAD_SIZE = 100 * 1024;\n",
              "\n",
              "function _uploadFiles(inputId, outputId) {\n",
              "  const steps = uploadFilesStep(inputId, outputId);\n",
              "  const outputElement = document.getElementById(outputId);\n",
              "  // Cache steps on the outputElement to make it available for the next call\n",
              "  // to uploadFilesContinue from Python.\n",
              "  outputElement.steps = steps;\n",
              "\n",
              "  return _uploadFilesContinue(outputId);\n",
              "}\n",
              "\n",
              "// This is roughly an async generator (not supported in the browser yet),\n",
              "// where there are multiple asynchronous steps and the Python side is going\n",
              "// to poll for completion of each step.\n",
              "// This uses a Promise to block the python side on completion of each step,\n",
              "// then passes the result of the previous step as the input to the next step.\n",
              "function _uploadFilesContinue(outputId) {\n",
              "  const outputElement = document.getElementById(outputId);\n",
              "  const steps = outputElement.steps;\n",
              "\n",
              "  const next = steps.next(outputElement.lastPromiseValue);\n",
              "  return Promise.resolve(next.value.promise).then((value) => {\n",
              "    // Cache the last promise value to make it available to the next\n",
              "    // step of the generator.\n",
              "    outputElement.lastPromiseValue = value;\n",
              "    return next.value.response;\n",
              "  });\n",
              "}\n",
              "\n",
              "/**\n",
              " * Generator function which is called between each async step of the upload\n",
              " * process.\n",
              " * @param {string} inputId Element ID of the input file picker element.\n",
              " * @param {string} outputId Element ID of the output display.\n",
              " * @return {!Iterable<!Object>} Iterable of next steps.\n",
              " */\n",
              "function* uploadFilesStep(inputId, outputId) {\n",
              "  const inputElement = document.getElementById(inputId);\n",
              "  inputElement.disabled = false;\n",
              "\n",
              "  const outputElement = document.getElementById(outputId);\n",
              "  outputElement.innerHTML = '';\n",
              "\n",
              "  const pickedPromise = new Promise((resolve) => {\n",
              "    inputElement.addEventListener('change', (e) => {\n",
              "      resolve(e.target.files);\n",
              "    });\n",
              "  });\n",
              "\n",
              "  const cancel = document.createElement('button');\n",
              "  inputElement.parentElement.appendChild(cancel);\n",
              "  cancel.textContent = 'Cancel upload';\n",
              "  const cancelPromise = new Promise((resolve) => {\n",
              "    cancel.onclick = () => {\n",
              "      resolve(null);\n",
              "    };\n",
              "  });\n",
              "\n",
              "  // Wait for the user to pick the files.\n",
              "  const files = yield {\n",
              "    promise: Promise.race([pickedPromise, cancelPromise]),\n",
              "    response: {\n",
              "      action: 'starting',\n",
              "    }\n",
              "  };\n",
              "\n",
              "  cancel.remove();\n",
              "\n",
              "  // Disable the input element since further picks are not allowed.\n",
              "  inputElement.disabled = true;\n",
              "\n",
              "  if (!files) {\n",
              "    return {\n",
              "      response: {\n",
              "        action: 'complete',\n",
              "      }\n",
              "    };\n",
              "  }\n",
              "\n",
              "  for (const file of files) {\n",
              "    const li = document.createElement('li');\n",
              "    li.append(span(file.name, {fontWeight: 'bold'}));\n",
              "    li.append(span(\n",
              "        `(${file.type || 'n/a'}) - ${file.size} bytes, ` +\n",
              "        `last modified: ${\n",
              "            file.lastModifiedDate ? file.lastModifiedDate.toLocaleDateString() :\n",
              "                                    'n/a'} - `));\n",
              "    const percent = span('0% done');\n",
              "    li.appendChild(percent);\n",
              "\n",
              "    outputElement.appendChild(li);\n",
              "\n",
              "    const fileDataPromise = new Promise((resolve) => {\n",
              "      const reader = new FileReader();\n",
              "      reader.onload = (e) => {\n",
              "        resolve(e.target.result);\n",
              "      };\n",
              "      reader.readAsArrayBuffer(file);\n",
              "    });\n",
              "    // Wait for the data to be ready.\n",
              "    let fileData = yield {\n",
              "      promise: fileDataPromise,\n",
              "      response: {\n",
              "        action: 'continue',\n",
              "      }\n",
              "    };\n",
              "\n",
              "    // Use a chunked sending to avoid message size limits. See b/62115660.\n",
              "    let position = 0;\n",
              "    do {\n",
              "      const length = Math.min(fileData.byteLength - position, MAX_PAYLOAD_SIZE);\n",
              "      const chunk = new Uint8Array(fileData, position, length);\n",
              "      position += length;\n",
              "\n",
              "      const base64 = btoa(String.fromCharCode.apply(null, chunk));\n",
              "      yield {\n",
              "        response: {\n",
              "          action: 'append',\n",
              "          file: file.name,\n",
              "          data: base64,\n",
              "        },\n",
              "      };\n",
              "\n",
              "      let percentDone = fileData.byteLength === 0 ?\n",
              "          100 :\n",
              "          Math.round((position / fileData.byteLength) * 100);\n",
              "      percent.textContent = `${percentDone}% done`;\n",
              "\n",
              "    } while (position < fileData.byteLength);\n",
              "  }\n",
              "\n",
              "  // All done.\n",
              "  yield {\n",
              "    response: {\n",
              "      action: 'complete',\n",
              "    }\n",
              "  };\n",
              "}\n",
              "\n",
              "scope.google = scope.google || {};\n",
              "scope.google.colab = scope.google.colab || {};\n",
              "scope.google.colab._files = {\n",
              "  _uploadFiles,\n",
              "  _uploadFilesContinue,\n",
              "};\n",
              "})(self);\n",
              "</script> "
            ],
            "text/plain": [
              "<IPython.core.display.HTML object>"
            ]
          },
          "metadata": {},
          "output_type": "display_data"
        },
        {
          "name": "stdout",
          "output_type": "stream",
          "text": [
            "Saving corte_68.jpeg to corte_68.jpeg\n",
            "[0.59939224]\n",
            "corte_68.jpeg não é fumaça\n"
          ]
        }
      ],
      "source": [
        "import numpy as np\n",
        "from google.colab import files\n",
        "from keras.preprocessing import image\n",
        "\n",
        "uploaded = files.upload()\n",
        "\n",
        "for fn in uploaded.keys():\n",
        " \n",
        "  # predicting images\n",
        "  path = '/content/drive/MyDrive/TCC/Videos/Validação/' + fn\n",
        "  img = image.load_img(path, target_size=(300, 300))\n",
        "  x = image.img_to_array(img)\n",
        "  x /= 255\n",
        "  x = np.expand_dims(x, axis=0)\n",
        "\n",
        "  images = np.vstack([x])\n",
        "  classes = rede.predict(images, batch_size=10)\n",
        "  print(classes[0])\n",
        "    \n",
        "  if classes[0]>0.5:\n",
        "    print(fn + \" não é fumaça\")\n",
        "  else:\n",
        "    print(fn + \" é fumaça \")"
      ]
    },
    {
      "cell_type": "code",
      "execution_count": null,
      "metadata": {
        "id": "qcZ7u2ceAFub"
      },
      "outputs": [],
      "source": []
    }
  ],
  "metadata": {
    "colab": {
      "collapsed_sections": [
        "does8-uoQ0o7"
      ],
      "provenance": [],
      "mount_file_id": "1UzW_0a6suyidVuuzYy78egFdhebCl_gE",
      "authorship_tag": "ABX9TyPGReepZu1aa+dRxCG1ldsI",
      "include_colab_link": true
    },
    "kernelspec": {
      "display_name": "Python 3",
      "name": "python3"
    },
    "language_info": {
      "name": "python"
    }
  },
  "nbformat": 4,
  "nbformat_minor": 0
}